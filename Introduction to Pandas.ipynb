{
 "cells": [
  {
   "cell_type": "code",
   "execution_count": 1,
   "metadata": {},
   "outputs": [],
   "source": [
    "import pandas as pd"
   ]
  },
  {
   "cell_type": "code",
   "execution_count": 95,
   "metadata": {},
   "outputs": [
    {
     "name": "stdout",
     "output_type": "stream",
     "text": [
      "f500 added successfully\n"
     ]
    }
   ],
   "source": [
    "f500 = pd.read_csv(\"C:/Users/obalana prosper/Videos/New folder (3)/f500.csv\",index_col = 0)\n",
    "print(\"f500 added successfully\")"
   ]
  },
  {
   "cell_type": "code",
   "execution_count": null,
   "metadata": {},
   "outputs": [],
   "source": []
  },
  {
   "cell_type": "markdown",
   "metadata": {},
   "source": [
    "### Introduction to data"
   ]
  },
  {
   "cell_type": "code",
   "execution_count": 12,
   "metadata": {},
   "outputs": [
    {
     "data": {
      "text/plain": [
       "pandas.core.frame.DataFrame"
      ]
     },
     "execution_count": 12,
     "metadata": {},
     "output_type": "execute_result"
    }
   ],
   "source": [
    "f500_type = type(f500)\n",
    "f500_type"
   ]
  },
  {
   "cell_type": "code",
   "execution_count": 13,
   "metadata": {},
   "outputs": [
    {
     "data": {
      "text/plain": [
       "(500, 17)"
      ]
     },
     "execution_count": 13,
     "metadata": {},
     "output_type": "execute_result"
    }
   ],
   "source": [
    "f500.shape"
   ]
  },
  {
   "cell_type": "markdown",
   "metadata": {},
   "source": [
    "### Introduction to Dataframes"
   ]
  },
  {
   "cell_type": "code",
   "execution_count": 14,
   "metadata": {},
   "outputs": [
    {
     "data": {
      "text/html": [
       "<div>\n",
       "<style scoped>\n",
       "    .dataframe tbody tr th:only-of-type {\n",
       "        vertical-align: middle;\n",
       "    }\n",
       "\n",
       "    .dataframe tbody tr th {\n",
       "        vertical-align: top;\n",
       "    }\n",
       "\n",
       "    .dataframe thead th {\n",
       "        text-align: right;\n",
       "    }\n",
       "</style>\n",
       "<table border=\"1\" class=\"dataframe\">\n",
       "  <thead>\n",
       "    <tr style=\"text-align: right;\">\n",
       "      <th></th>\n",
       "      <th>company</th>\n",
       "      <th>rank</th>\n",
       "      <th>revenues</th>\n",
       "      <th>revenue_change</th>\n",
       "      <th>profits</th>\n",
       "      <th>assets</th>\n",
       "      <th>profit_change</th>\n",
       "      <th>ceo</th>\n",
       "      <th>industry</th>\n",
       "      <th>sector</th>\n",
       "      <th>previous_rank</th>\n",
       "      <th>country</th>\n",
       "      <th>hq_location</th>\n",
       "      <th>website</th>\n",
       "      <th>years_on_global_500_list</th>\n",
       "      <th>employees</th>\n",
       "      <th>total_stockholder_equity</th>\n",
       "    </tr>\n",
       "  </thead>\n",
       "  <tbody>\n",
       "    <tr>\n",
       "      <th>0</th>\n",
       "      <td>Walmart</td>\n",
       "      <td>1</td>\n",
       "      <td>485873</td>\n",
       "      <td>0.8</td>\n",
       "      <td>13643.0</td>\n",
       "      <td>198825</td>\n",
       "      <td>-7.2</td>\n",
       "      <td>C. Douglas McMillon</td>\n",
       "      <td>General Merchandisers</td>\n",
       "      <td>Retailing</td>\n",
       "      <td>1</td>\n",
       "      <td>USA</td>\n",
       "      <td>Bentonville, AR</td>\n",
       "      <td>http://www.walmart.com</td>\n",
       "      <td>23</td>\n",
       "      <td>2300000</td>\n",
       "      <td>77798</td>\n",
       "    </tr>\n",
       "    <tr>\n",
       "      <th>1</th>\n",
       "      <td>State Grid</td>\n",
       "      <td>2</td>\n",
       "      <td>315199</td>\n",
       "      <td>-4.4</td>\n",
       "      <td>9571.3</td>\n",
       "      <td>489838</td>\n",
       "      <td>-6.2</td>\n",
       "      <td>Kou Wei</td>\n",
       "      <td>Utilities</td>\n",
       "      <td>Energy</td>\n",
       "      <td>2</td>\n",
       "      <td>China</td>\n",
       "      <td>Beijing, China</td>\n",
       "      <td>http://www.sgcc.com.cn</td>\n",
       "      <td>17</td>\n",
       "      <td>926067</td>\n",
       "      <td>209456</td>\n",
       "    </tr>\n",
       "    <tr>\n",
       "      <th>2</th>\n",
       "      <td>Sinopec Group</td>\n",
       "      <td>3</td>\n",
       "      <td>267518</td>\n",
       "      <td>-9.1</td>\n",
       "      <td>1257.9</td>\n",
       "      <td>310726</td>\n",
       "      <td>-65.0</td>\n",
       "      <td>Wang Yupu</td>\n",
       "      <td>Petroleum Refining</td>\n",
       "      <td>Energy</td>\n",
       "      <td>4</td>\n",
       "      <td>China</td>\n",
       "      <td>Beijing, China</td>\n",
       "      <td>http://www.sinopec.com</td>\n",
       "      <td>19</td>\n",
       "      <td>713288</td>\n",
       "      <td>106523</td>\n",
       "    </tr>\n",
       "    <tr>\n",
       "      <th>3</th>\n",
       "      <td>China National Petroleum</td>\n",
       "      <td>4</td>\n",
       "      <td>262573</td>\n",
       "      <td>-12.3</td>\n",
       "      <td>1867.5</td>\n",
       "      <td>585619</td>\n",
       "      <td>-73.7</td>\n",
       "      <td>Zhang Jianhua</td>\n",
       "      <td>Petroleum Refining</td>\n",
       "      <td>Energy</td>\n",
       "      <td>3</td>\n",
       "      <td>China</td>\n",
       "      <td>Beijing, China</td>\n",
       "      <td>http://www.cnpc.com.cn</td>\n",
       "      <td>17</td>\n",
       "      <td>1512048</td>\n",
       "      <td>301893</td>\n",
       "    </tr>\n",
       "    <tr>\n",
       "      <th>4</th>\n",
       "      <td>Toyota Motor</td>\n",
       "      <td>5</td>\n",
       "      <td>254694</td>\n",
       "      <td>7.7</td>\n",
       "      <td>16899.3</td>\n",
       "      <td>437575</td>\n",
       "      <td>-12.3</td>\n",
       "      <td>Akio Toyoda</td>\n",
       "      <td>Motor Vehicles and Parts</td>\n",
       "      <td>Motor Vehicles &amp; Parts</td>\n",
       "      <td>8</td>\n",
       "      <td>Japan</td>\n",
       "      <td>Toyota, Japan</td>\n",
       "      <td>http://www.toyota-global.com</td>\n",
       "      <td>23</td>\n",
       "      <td>364445</td>\n",
       "      <td>157210</td>\n",
       "    </tr>\n",
       "    <tr>\n",
       "      <th>5</th>\n",
       "      <td>Volkswagen</td>\n",
       "      <td>6</td>\n",
       "      <td>240264</td>\n",
       "      <td>1.5</td>\n",
       "      <td>5937.3</td>\n",
       "      <td>432116</td>\n",
       "      <td>NaN</td>\n",
       "      <td>Matthias Muller</td>\n",
       "      <td>Motor Vehicles and Parts</td>\n",
       "      <td>Motor Vehicles &amp; Parts</td>\n",
       "      <td>7</td>\n",
       "      <td>Germany</td>\n",
       "      <td>Wolfsburg, Germany</td>\n",
       "      <td>http://www.volkswagen.com</td>\n",
       "      <td>23</td>\n",
       "      <td>626715</td>\n",
       "      <td>97753</td>\n",
       "    </tr>\n",
       "  </tbody>\n",
       "</table>\n",
       "</div>"
      ],
      "text/plain": [
       "                    company  rank  revenues  revenue_change  profits  assets  \\\n",
       "0                   Walmart     1    485873             0.8  13643.0  198825   \n",
       "1                State Grid     2    315199            -4.4   9571.3  489838   \n",
       "2             Sinopec Group     3    267518            -9.1   1257.9  310726   \n",
       "3  China National Petroleum     4    262573           -12.3   1867.5  585619   \n",
       "4              Toyota Motor     5    254694             7.7  16899.3  437575   \n",
       "5                Volkswagen     6    240264             1.5   5937.3  432116   \n",
       "\n",
       "   profit_change                  ceo                  industry  \\\n",
       "0           -7.2  C. Douglas McMillon     General Merchandisers   \n",
       "1           -6.2              Kou Wei                 Utilities   \n",
       "2          -65.0            Wang Yupu        Petroleum Refining   \n",
       "3          -73.7        Zhang Jianhua        Petroleum Refining   \n",
       "4          -12.3          Akio Toyoda  Motor Vehicles and Parts   \n",
       "5            NaN      Matthias Muller  Motor Vehicles and Parts   \n",
       "\n",
       "                   sector  previous_rank  country         hq_location  \\\n",
       "0               Retailing              1      USA     Bentonville, AR   \n",
       "1                  Energy              2    China      Beijing, China   \n",
       "2                  Energy              4    China      Beijing, China   \n",
       "3                  Energy              3    China      Beijing, China   \n",
       "4  Motor Vehicles & Parts              8    Japan       Toyota, Japan   \n",
       "5  Motor Vehicles & Parts              7  Germany  Wolfsburg, Germany   \n",
       "\n",
       "                        website  years_on_global_500_list  employees  \\\n",
       "0        http://www.walmart.com                        23    2300000   \n",
       "1        http://www.sgcc.com.cn                        17     926067   \n",
       "2        http://www.sinopec.com                        19     713288   \n",
       "3        http://www.cnpc.com.cn                        17    1512048   \n",
       "4  http://www.toyota-global.com                        23     364445   \n",
       "5     http://www.volkswagen.com                        23     626715   \n",
       "\n",
       "   total_stockholder_equity  \n",
       "0                     77798  \n",
       "1                    209456  \n",
       "2                    106523  \n",
       "3                    301893  \n",
       "4                    157210  \n",
       "5                     97753  "
      ]
     },
     "execution_count": 14,
     "metadata": {},
     "output_type": "execute_result"
    }
   ],
   "source": [
    "f500.head(6)"
   ]
  },
  {
   "cell_type": "code",
   "execution_count": 15,
   "metadata": {},
   "outputs": [
    {
     "data": {
      "text/html": [
       "<div>\n",
       "<style scoped>\n",
       "    .dataframe tbody tr th:only-of-type {\n",
       "        vertical-align: middle;\n",
       "    }\n",
       "\n",
       "    .dataframe tbody tr th {\n",
       "        vertical-align: top;\n",
       "    }\n",
       "\n",
       "    .dataframe thead th {\n",
       "        text-align: right;\n",
       "    }\n",
       "</style>\n",
       "<table border=\"1\" class=\"dataframe\">\n",
       "  <thead>\n",
       "    <tr style=\"text-align: right;\">\n",
       "      <th></th>\n",
       "      <th>company</th>\n",
       "      <th>rank</th>\n",
       "      <th>revenues</th>\n",
       "      <th>revenue_change</th>\n",
       "      <th>profits</th>\n",
       "      <th>assets</th>\n",
       "      <th>profit_change</th>\n",
       "      <th>ceo</th>\n",
       "      <th>industry</th>\n",
       "      <th>sector</th>\n",
       "      <th>previous_rank</th>\n",
       "      <th>country</th>\n",
       "      <th>hq_location</th>\n",
       "      <th>website</th>\n",
       "      <th>years_on_global_500_list</th>\n",
       "      <th>employees</th>\n",
       "      <th>total_stockholder_equity</th>\n",
       "    </tr>\n",
       "  </thead>\n",
       "  <tbody>\n",
       "    <tr>\n",
       "      <th>492</th>\n",
       "      <td>Telecom Italia</td>\n",
       "      <td>493</td>\n",
       "      <td>21941</td>\n",
       "      <td>-17.4</td>\n",
       "      <td>1999.4</td>\n",
       "      <td>74295</td>\n",
       "      <td>NaN</td>\n",
       "      <td>Flavio Cattaneo</td>\n",
       "      <td>Telecommunications</td>\n",
       "      <td>Telecommunications</td>\n",
       "      <td>404</td>\n",
       "      <td>Italy</td>\n",
       "      <td>Milan, Italy</td>\n",
       "      <td>http://www.telecomitalia.com</td>\n",
       "      <td>18</td>\n",
       "      <td>61227</td>\n",
       "      <td>22366</td>\n",
       "    </tr>\n",
       "    <tr>\n",
       "      <th>493</th>\n",
       "      <td>Xiamen ITG Holding Group</td>\n",
       "      <td>494</td>\n",
       "      <td>21930</td>\n",
       "      <td>34.3</td>\n",
       "      <td>35.6</td>\n",
       "      <td>12161</td>\n",
       "      <td>-25.1</td>\n",
       "      <td>Xu Xiaoxi</td>\n",
       "      <td>Trading</td>\n",
       "      <td>Wholesalers</td>\n",
       "      <td>0</td>\n",
       "      <td>China</td>\n",
       "      <td>Xiamen, China</td>\n",
       "      <td>http://www.itgholding.com.cn</td>\n",
       "      <td>1</td>\n",
       "      <td>18454</td>\n",
       "      <td>1066</td>\n",
       "    </tr>\n",
       "    <tr>\n",
       "      <th>494</th>\n",
       "      <td>Xinjiang Guanghui Industry Investment</td>\n",
       "      <td>495</td>\n",
       "      <td>21919</td>\n",
       "      <td>31.1</td>\n",
       "      <td>251.8</td>\n",
       "      <td>31957</td>\n",
       "      <td>49.9</td>\n",
       "      <td>Shang Jiqiang</td>\n",
       "      <td>Trading</td>\n",
       "      <td>Wholesalers</td>\n",
       "      <td>0</td>\n",
       "      <td>China</td>\n",
       "      <td>Urumqi, China</td>\n",
       "      <td>http://www.guanghui.com</td>\n",
       "      <td>1</td>\n",
       "      <td>65616</td>\n",
       "      <td>4563</td>\n",
       "    </tr>\n",
       "    <tr>\n",
       "      <th>495</th>\n",
       "      <td>Teva Pharmaceutical Industries</td>\n",
       "      <td>496</td>\n",
       "      <td>21903</td>\n",
       "      <td>11.5</td>\n",
       "      <td>329.0</td>\n",
       "      <td>92890</td>\n",
       "      <td>-79.3</td>\n",
       "      <td>Yitzhak Peterburg</td>\n",
       "      <td>Pharmaceuticals</td>\n",
       "      <td>Health Care</td>\n",
       "      <td>0</td>\n",
       "      <td>Israel</td>\n",
       "      <td>Petach Tikva, Israel</td>\n",
       "      <td>http://www.tevapharm.com</td>\n",
       "      <td>1</td>\n",
       "      <td>56960</td>\n",
       "      <td>33337</td>\n",
       "    </tr>\n",
       "    <tr>\n",
       "      <th>496</th>\n",
       "      <td>New China Life Insurance</td>\n",
       "      <td>497</td>\n",
       "      <td>21796</td>\n",
       "      <td>-13.3</td>\n",
       "      <td>743.9</td>\n",
       "      <td>100609</td>\n",
       "      <td>-45.6</td>\n",
       "      <td>Wan Feng</td>\n",
       "      <td>Insurance: Life, Health (stock)</td>\n",
       "      <td>Financials</td>\n",
       "      <td>427</td>\n",
       "      <td>China</td>\n",
       "      <td>Beijing, China</td>\n",
       "      <td>http://www.newchinalife.com</td>\n",
       "      <td>2</td>\n",
       "      <td>54378</td>\n",
       "      <td>8507</td>\n",
       "    </tr>\n",
       "    <tr>\n",
       "      <th>497</th>\n",
       "      <td>Wm. Morrison Supermarkets</td>\n",
       "      <td>498</td>\n",
       "      <td>21741</td>\n",
       "      <td>-11.3</td>\n",
       "      <td>406.4</td>\n",
       "      <td>11630</td>\n",
       "      <td>20.4</td>\n",
       "      <td>David T. Potts</td>\n",
       "      <td>Food and Drug Stores</td>\n",
       "      <td>Food &amp; Drug Stores</td>\n",
       "      <td>437</td>\n",
       "      <td>Britain</td>\n",
       "      <td>Bradford, Britain</td>\n",
       "      <td>http://www.morrisons.com</td>\n",
       "      <td>13</td>\n",
       "      <td>77210</td>\n",
       "      <td>5111</td>\n",
       "    </tr>\n",
       "    <tr>\n",
       "      <th>498</th>\n",
       "      <td>TUI</td>\n",
       "      <td>499</td>\n",
       "      <td>21655</td>\n",
       "      <td>-5.5</td>\n",
       "      <td>1151.7</td>\n",
       "      <td>16247</td>\n",
       "      <td>195.5</td>\n",
       "      <td>Friedrich Joussen</td>\n",
       "      <td>Travel Services</td>\n",
       "      <td>Business Services</td>\n",
       "      <td>467</td>\n",
       "      <td>Germany</td>\n",
       "      <td>Hanover, Germany</td>\n",
       "      <td>http://www.tuigroup.com</td>\n",
       "      <td>23</td>\n",
       "      <td>66779</td>\n",
       "      <td>3006</td>\n",
       "    </tr>\n",
       "    <tr>\n",
       "      <th>499</th>\n",
       "      <td>AutoNation</td>\n",
       "      <td>500</td>\n",
       "      <td>21609</td>\n",
       "      <td>3.6</td>\n",
       "      <td>430.5</td>\n",
       "      <td>10060</td>\n",
       "      <td>-2.7</td>\n",
       "      <td>Michael J. Jackson</td>\n",
       "      <td>Specialty Retailers</td>\n",
       "      <td>Retailing</td>\n",
       "      <td>0</td>\n",
       "      <td>USA</td>\n",
       "      <td>Fort Lauderdale, FL</td>\n",
       "      <td>http://www.autonation.com</td>\n",
       "      <td>12</td>\n",
       "      <td>26000</td>\n",
       "      <td>2310</td>\n",
       "    </tr>\n",
       "  </tbody>\n",
       "</table>\n",
       "</div>"
      ],
      "text/plain": [
       "                                   company  rank  revenues  revenue_change  \\\n",
       "492                         Telecom Italia   493     21941           -17.4   \n",
       "493               Xiamen ITG Holding Group   494     21930            34.3   \n",
       "494  Xinjiang Guanghui Industry Investment   495     21919            31.1   \n",
       "495         Teva Pharmaceutical Industries   496     21903            11.5   \n",
       "496               New China Life Insurance   497     21796           -13.3   \n",
       "497              Wm. Morrison Supermarkets   498     21741           -11.3   \n",
       "498                                    TUI   499     21655            -5.5   \n",
       "499                             AutoNation   500     21609             3.6   \n",
       "\n",
       "     profits  assets  profit_change                 ceo  \\\n",
       "492   1999.4   74295            NaN     Flavio Cattaneo   \n",
       "493     35.6   12161          -25.1           Xu Xiaoxi   \n",
       "494    251.8   31957           49.9       Shang Jiqiang   \n",
       "495    329.0   92890          -79.3   Yitzhak Peterburg   \n",
       "496    743.9  100609          -45.6            Wan Feng   \n",
       "497    406.4   11630           20.4      David T. Potts   \n",
       "498   1151.7   16247          195.5   Friedrich Joussen   \n",
       "499    430.5   10060           -2.7  Michael J. Jackson   \n",
       "\n",
       "                            industry              sector  previous_rank  \\\n",
       "492               Telecommunications  Telecommunications            404   \n",
       "493                          Trading         Wholesalers              0   \n",
       "494                          Trading         Wholesalers              0   \n",
       "495                  Pharmaceuticals         Health Care              0   \n",
       "496  Insurance: Life, Health (stock)          Financials            427   \n",
       "497             Food and Drug Stores  Food & Drug Stores            437   \n",
       "498                  Travel Services   Business Services            467   \n",
       "499              Specialty Retailers           Retailing              0   \n",
       "\n",
       "     country           hq_location                       website  \\\n",
       "492    Italy          Milan, Italy  http://www.telecomitalia.com   \n",
       "493    China         Xiamen, China  http://www.itgholding.com.cn   \n",
       "494    China         Urumqi, China       http://www.guanghui.com   \n",
       "495   Israel  Petach Tikva, Israel      http://www.tevapharm.com   \n",
       "496    China        Beijing, China   http://www.newchinalife.com   \n",
       "497  Britain     Bradford, Britain      http://www.morrisons.com   \n",
       "498  Germany      Hanover, Germany       http://www.tuigroup.com   \n",
       "499      USA   Fort Lauderdale, FL     http://www.autonation.com   \n",
       "\n",
       "     years_on_global_500_list  employees  total_stockholder_equity  \n",
       "492                        18      61227                     22366  \n",
       "493                         1      18454                      1066  \n",
       "494                         1      65616                      4563  \n",
       "495                         1      56960                     33337  \n",
       "496                         2      54378                      8507  \n",
       "497                        13      77210                      5111  \n",
       "498                        23      66779                      3006  \n",
       "499                        12      26000                      2310  "
      ]
     },
     "execution_count": 15,
     "metadata": {},
     "output_type": "execute_result"
    }
   ],
   "source": [
    "f500.tail(8)"
   ]
  },
  {
   "cell_type": "code",
   "execution_count": 17,
   "metadata": {},
   "outputs": [
    {
     "name": "stdout",
     "output_type": "stream",
     "text": [
      "<class 'pandas.core.frame.DataFrame'>\n",
      "RangeIndex: 500 entries, 0 to 499\n",
      "Data columns (total 17 columns):\n",
      "company                     500 non-null object\n",
      "rank                        500 non-null int64\n",
      "revenues                    500 non-null int64\n",
      "revenue_change              498 non-null float64\n",
      "profits                     499 non-null float64\n",
      "assets                      500 non-null int64\n",
      "profit_change               436 non-null float64\n",
      "ceo                         500 non-null object\n",
      "industry                    500 non-null object\n",
      "sector                      500 non-null object\n",
      "previous_rank               500 non-null int64\n",
      "country                     500 non-null object\n",
      "hq_location                 500 non-null object\n",
      "website                     500 non-null object\n",
      "years_on_global_500_list    500 non-null int64\n",
      "employees                   500 non-null int64\n",
      "total_stockholder_equity    500 non-null int64\n",
      "dtypes: float64(3), int64(7), object(7)\n",
      "memory usage: 66.5+ KB\n",
      "None\n"
     ]
    }
   ],
   "source": [
    "print(f500.info())"
   ]
  },
  {
   "cell_type": "markdown",
   "metadata": {},
   "source": [
    "### Selecting a Column from a DataFrame by Label"
   ]
  },
  {
   "cell_type": "code",
   "execution_count": 21,
   "metadata": {},
   "outputs": [
    {
     "name": "stdout",
     "output_type": "stream",
     "text": [
      "<class 'pandas.core.series.Series'>\n"
     ]
    }
   ],
   "source": [
    "industries = f500.loc[:,'industry']\n",
    "print(type(industries))"
   ]
  },
  {
   "cell_type": "code",
   "execution_count": 27,
   "metadata": {},
   "outputs": [],
   "source": [
    "col = [1,2,4,11]"
   ]
  },
  {
   "cell_type": "code",
   "execution_count": 106,
   "metadata": {},
   "outputs": [],
   "source": [
    "f500_selection = f500[0:5]"
   ]
  },
  {
   "cell_type": "code",
   "execution_count": 107,
   "metadata": {},
   "outputs": [
    {
     "name": "stderr",
     "output_type": "stream",
     "text": [
      "C:\\Users\\obalana prosper\\Videos\\New folder\\New folder\\lib\\site-packages\\pandas\\core\\indexing.py:1472: FutureWarning: \n",
      "Passing list-likes to .loc or [] with any missing label will raise\n",
      "KeyError in the future, you can use .reindex() as an alternative.\n",
      "\n",
      "See the documentation here:\n",
      "https://pandas.pydata.org/pandas-docs/stable/indexing.html#deprecate-loc-reindex-listlike\n",
      "  return self._getitem_tuple(key)\n"
     ]
    }
   ],
   "source": [
    "f500_selection = f500_selection.loc[:,['company','rank','revenues','profits','country']]"
   ]
  },
  {
   "cell_type": "code",
   "execution_count": 49,
   "metadata": {},
   "outputs": [],
   "source": [
    "f500_selection =f500_selection.set_index('company')"
   ]
  },
  {
   "cell_type": "code",
   "execution_count": 108,
   "metadata": {},
   "outputs": [
    {
     "data": {
      "text/plain": [
       "company\n",
       "Walmart                     1\n",
       "State Grid                  2\n",
       "Sinopec Group               3\n",
       "China National Petroleum    4\n",
       "Toyota Motor                5\n",
       "Name: rank, dtype: int64"
      ]
     },
     "execution_count": 108,
     "metadata": {},
     "output_type": "execute_result"
    }
   ],
   "source": [
    "f500_selection.loc[:,'rank']"
   ]
  },
  {
   "cell_type": "code",
   "execution_count": 51,
   "metadata": {},
   "outputs": [
    {
     "data": {
      "text/html": [
       "<div>\n",
       "<style scoped>\n",
       "    .dataframe tbody tr th:only-of-type {\n",
       "        vertical-align: middle;\n",
       "    }\n",
       "\n",
       "    .dataframe tbody tr th {\n",
       "        vertical-align: top;\n",
       "    }\n",
       "\n",
       "    .dataframe thead th {\n",
       "        text-align: right;\n",
       "    }\n",
       "</style>\n",
       "<table border=\"1\" class=\"dataframe\">\n",
       "  <thead>\n",
       "    <tr style=\"text-align: right;\">\n",
       "      <th></th>\n",
       "      <th>country</th>\n",
       "      <th>rank</th>\n",
       "    </tr>\n",
       "    <tr>\n",
       "      <th>company</th>\n",
       "      <th></th>\n",
       "      <th></th>\n",
       "    </tr>\n",
       "  </thead>\n",
       "  <tbody>\n",
       "    <tr>\n",
       "      <th>Walmart</th>\n",
       "      <td>USA</td>\n",
       "      <td>1</td>\n",
       "    </tr>\n",
       "    <tr>\n",
       "      <th>State Grid</th>\n",
       "      <td>China</td>\n",
       "      <td>2</td>\n",
       "    </tr>\n",
       "    <tr>\n",
       "      <th>Sinopec Group</th>\n",
       "      <td>China</td>\n",
       "      <td>3</td>\n",
       "    </tr>\n",
       "    <tr>\n",
       "      <th>China National Petroleum</th>\n",
       "      <td>China</td>\n",
       "      <td>4</td>\n",
       "    </tr>\n",
       "    <tr>\n",
       "      <th>Toyota Motor</th>\n",
       "      <td>Japan</td>\n",
       "      <td>5</td>\n",
       "    </tr>\n",
       "  </tbody>\n",
       "</table>\n",
       "</div>"
      ],
      "text/plain": [
       "                         country  rank\n",
       "company                               \n",
       "Walmart                      USA     1\n",
       "State Grid                 China     2\n",
       "Sinopec Group              China     3\n",
       "China National Petroleum   China     4\n",
       "Toyota Motor               Japan     5"
      ]
     },
     "execution_count": 51,
     "metadata": {},
     "output_type": "execute_result"
    }
   ],
   "source": [
    "f500_selection.loc[:,[\"country\",\"rank\"]]"
   ]
  },
  {
   "cell_type": "code",
   "execution_count": 52,
   "metadata": {},
   "outputs": [
    {
     "data": {
      "text/html": [
       "<div>\n",
       "<style scoped>\n",
       "    .dataframe tbody tr th:only-of-type {\n",
       "        vertical-align: middle;\n",
       "    }\n",
       "\n",
       "    .dataframe tbody tr th {\n",
       "        vertical-align: top;\n",
       "    }\n",
       "\n",
       "    .dataframe thead th {\n",
       "        text-align: right;\n",
       "    }\n",
       "</style>\n",
       "<table border=\"1\" class=\"dataframe\">\n",
       "  <thead>\n",
       "    <tr style=\"text-align: right;\">\n",
       "      <th></th>\n",
       "      <th>country</th>\n",
       "      <th>rank</th>\n",
       "    </tr>\n",
       "    <tr>\n",
       "      <th>company</th>\n",
       "      <th></th>\n",
       "      <th></th>\n",
       "    </tr>\n",
       "  </thead>\n",
       "  <tbody>\n",
       "    <tr>\n",
       "      <th>Walmart</th>\n",
       "      <td>USA</td>\n",
       "      <td>1</td>\n",
       "    </tr>\n",
       "    <tr>\n",
       "      <th>State Grid</th>\n",
       "      <td>China</td>\n",
       "      <td>2</td>\n",
       "    </tr>\n",
       "    <tr>\n",
       "      <th>Sinopec Group</th>\n",
       "      <td>China</td>\n",
       "      <td>3</td>\n",
       "    </tr>\n",
       "    <tr>\n",
       "      <th>China National Petroleum</th>\n",
       "      <td>China</td>\n",
       "      <td>4</td>\n",
       "    </tr>\n",
       "    <tr>\n",
       "      <th>Toyota Motor</th>\n",
       "      <td>Japan</td>\n",
       "      <td>5</td>\n",
       "    </tr>\n",
       "  </tbody>\n",
       "</table>\n",
       "</div>"
      ],
      "text/plain": [
       "                         country  rank\n",
       "company                               \n",
       "Walmart                      USA     1\n",
       "State Grid                 China     2\n",
       "Sinopec Group              China     3\n",
       "China National Petroleum   China     4\n",
       "Toyota Motor               Japan     5"
      ]
     },
     "execution_count": 52,
     "metadata": {},
     "output_type": "execute_result"
    }
   ],
   "source": [
    "f500_selection[['country','rank']]"
   ]
  },
  {
   "cell_type": "code",
   "execution_count": 58,
   "metadata": {},
   "outputs": [],
   "source": [
    "countries = f500.loc[:,'country']\n",
    "revenues_years = f500[['revenues','years_on_global_500_list']]\n",
    "ceo_to_sector = f500.loc[:,'ceo':'sector']"
   ]
  },
  {
   "cell_type": "code",
   "execution_count": 56,
   "metadata": {},
   "outputs": [
    {
     "data": {
      "text/html": [
       "<div>\n",
       "<style scoped>\n",
       "    .dataframe tbody tr th:only-of-type {\n",
       "        vertical-align: middle;\n",
       "    }\n",
       "\n",
       "    .dataframe tbody tr th {\n",
       "        vertical-align: top;\n",
       "    }\n",
       "\n",
       "    .dataframe thead th {\n",
       "        text-align: right;\n",
       "    }\n",
       "</style>\n",
       "<table border=\"1\" class=\"dataframe\">\n",
       "  <thead>\n",
       "    <tr style=\"text-align: right;\">\n",
       "      <th></th>\n",
       "      <th>ceo</th>\n",
       "      <th>industry</th>\n",
       "      <th>sector</th>\n",
       "    </tr>\n",
       "  </thead>\n",
       "  <tbody>\n",
       "    <tr>\n",
       "      <th>0</th>\n",
       "      <td>C. Douglas McMillon</td>\n",
       "      <td>General Merchandisers</td>\n",
       "      <td>Retailing</td>\n",
       "    </tr>\n",
       "    <tr>\n",
       "      <th>1</th>\n",
       "      <td>Kou Wei</td>\n",
       "      <td>Utilities</td>\n",
       "      <td>Energy</td>\n",
       "    </tr>\n",
       "    <tr>\n",
       "      <th>2</th>\n",
       "      <td>Wang Yupu</td>\n",
       "      <td>Petroleum Refining</td>\n",
       "      <td>Energy</td>\n",
       "    </tr>\n",
       "    <tr>\n",
       "      <th>3</th>\n",
       "      <td>Zhang Jianhua</td>\n",
       "      <td>Petroleum Refining</td>\n",
       "      <td>Energy</td>\n",
       "    </tr>\n",
       "    <tr>\n",
       "      <th>4</th>\n",
       "      <td>Akio Toyoda</td>\n",
       "      <td>Motor Vehicles and Parts</td>\n",
       "      <td>Motor Vehicles &amp; Parts</td>\n",
       "    </tr>\n",
       "  </tbody>\n",
       "</table>\n",
       "</div>"
      ],
      "text/plain": [
       "                   ceo                  industry                  sector\n",
       "0  C. Douglas McMillon     General Merchandisers               Retailing\n",
       "1              Kou Wei                 Utilities                  Energy\n",
       "2            Wang Yupu        Petroleum Refining                  Energy\n",
       "3        Zhang Jianhua        Petroleum Refining                  Energy\n",
       "4          Akio Toyoda  Motor Vehicles and Parts  Motor Vehicles & Parts"
      ]
     },
     "execution_count": 56,
     "metadata": {},
     "output_type": "execute_result"
    }
   ],
   "source": [
    "ceo_to_sector.head()"
   ]
  },
  {
   "cell_type": "markdown",
   "metadata": {},
   "source": [
    "### Selecting Rows by labels"
   ]
  },
  {
   "cell_type": "code",
   "execution_count": 63,
   "metadata": {},
   "outputs": [],
   "source": [
    "single_row = f500_selection.loc['Sinopec Group']"
   ]
  },
  {
   "cell_type": "code",
   "execution_count": 64,
   "metadata": {},
   "outputs": [
    {
     "name": "stdout",
     "output_type": "stream",
     "text": [
      "rank             3\n",
      "revenues    267518\n",
      "profits     1257.9\n",
      "country      China\n",
      "Name: Sinopec Group, dtype: object\n"
     ]
    }
   ],
   "source": [
    "print(single_row)"
   ]
  },
  {
   "cell_type": "code",
   "execution_count": 78,
   "metadata": {},
   "outputs": [],
   "source": [
    "toyota = f500.loc['Toyota Motor']"
   ]
  },
  {
   "cell_type": "code",
   "execution_count": 79,
   "metadata": {},
   "outputs": [
    {
     "data": {
      "text/plain": [
       "rank                    5\n",
       "revenues           254694\n",
       "revenue_change        7.7\n",
       "profits           16899.3\n",
       "assets             437575\n",
       "Name: Toyota Motor, dtype: object"
      ]
     },
     "execution_count": 79,
     "metadata": {},
     "output_type": "execute_result"
    }
   ],
   "source": [
    "toyota.head()"
   ]
  },
  {
   "cell_type": "code",
   "execution_count": 96,
   "metadata": {},
   "outputs": [],
   "source": [
    "middle_companies = f500.loc['Tata Motors':'Nationwide','rank':'country']"
   ]
  },
  {
   "cell_type": "code",
   "execution_count": 99,
   "metadata": {},
   "outputs": [
    {
     "data": {
      "text/html": [
       "<div>\n",
       "<style scoped>\n",
       "    .dataframe tbody tr th:only-of-type {\n",
       "        vertical-align: middle;\n",
       "    }\n",
       "\n",
       "    .dataframe tbody tr th {\n",
       "        vertical-align: top;\n",
       "    }\n",
       "\n",
       "    .dataframe thead th {\n",
       "        text-align: right;\n",
       "    }\n",
       "</style>\n",
       "<table border=\"1\" class=\"dataframe\">\n",
       "  <thead>\n",
       "    <tr style=\"text-align: right;\">\n",
       "      <th></th>\n",
       "      <th>rank</th>\n",
       "      <th>revenues</th>\n",
       "      <th>revenue_change</th>\n",
       "      <th>profits</th>\n",
       "      <th>assets</th>\n",
       "      <th>profit_change</th>\n",
       "      <th>ceo</th>\n",
       "      <th>industry</th>\n",
       "      <th>sector</th>\n",
       "      <th>previous_rank</th>\n",
       "      <th>country</th>\n",
       "    </tr>\n",
       "    <tr>\n",
       "      <th>company</th>\n",
       "      <th></th>\n",
       "      <th></th>\n",
       "      <th></th>\n",
       "      <th></th>\n",
       "      <th></th>\n",
       "      <th></th>\n",
       "      <th></th>\n",
       "      <th></th>\n",
       "      <th></th>\n",
       "      <th></th>\n",
       "      <th></th>\n",
       "    </tr>\n",
       "  </thead>\n",
       "  <tbody>\n",
       "    <tr>\n",
       "      <th>Tata Motors</th>\n",
       "      <td>247</td>\n",
       "      <td>40329</td>\n",
       "      <td>-4.2</td>\n",
       "      <td>1111.6</td>\n",
       "      <td>42162</td>\n",
       "      <td>-34.0</td>\n",
       "      <td>Guenter Butschek</td>\n",
       "      <td>Motor Vehicles and Parts</td>\n",
       "      <td>Motor Vehicles &amp; Parts</td>\n",
       "      <td>226</td>\n",
       "      <td>India</td>\n",
       "    </tr>\n",
       "    <tr>\n",
       "      <th>Aluminum Corp. of China</th>\n",
       "      <td>248</td>\n",
       "      <td>40278</td>\n",
       "      <td>6.0</td>\n",
       "      <td>-282.5</td>\n",
       "      <td>75089</td>\n",
       "      <td>NaN</td>\n",
       "      <td>Yu Dehui</td>\n",
       "      <td>Metals</td>\n",
       "      <td>Materials</td>\n",
       "      <td>262</td>\n",
       "      <td>China</td>\n",
       "    </tr>\n",
       "    <tr>\n",
       "      <th>Mitsui</th>\n",
       "      <td>249</td>\n",
       "      <td>40275</td>\n",
       "      <td>1.6</td>\n",
       "      <td>2825.3</td>\n",
       "      <td>103231</td>\n",
       "      <td>NaN</td>\n",
       "      <td>Tatsuo Yasunaga</td>\n",
       "      <td>Trading</td>\n",
       "      <td>Wholesalers</td>\n",
       "      <td>245</td>\n",
       "      <td>Japan</td>\n",
       "    </tr>\n",
       "    <tr>\n",
       "      <th>Manulife Financial</th>\n",
       "      <td>250</td>\n",
       "      <td>40238</td>\n",
       "      <td>49.4</td>\n",
       "      <td>2209.7</td>\n",
       "      <td>537461</td>\n",
       "      <td>28.9</td>\n",
       "      <td>Donald A. Guloien</td>\n",
       "      <td>Insurance: Life, Health (stock)</td>\n",
       "      <td>Financials</td>\n",
       "      <td>394</td>\n",
       "      <td>Canada</td>\n",
       "    </tr>\n",
       "    <tr>\n",
       "      <th>China Minsheng Banking</th>\n",
       "      <td>251</td>\n",
       "      <td>40234</td>\n",
       "      <td>-5.2</td>\n",
       "      <td>7201.6</td>\n",
       "      <td>848389</td>\n",
       "      <td>-1.8</td>\n",
       "      <td>Zheng Wanchun</td>\n",
       "      <td>Banks: Commercial and Savings</td>\n",
       "      <td>Financials</td>\n",
       "      <td>221</td>\n",
       "      <td>China</td>\n",
       "    </tr>\n",
       "  </tbody>\n",
       "</table>\n",
       "</div>"
      ],
      "text/plain": [
       "                         rank  revenues  revenue_change  profits  assets  \\\n",
       "company                                                                    \n",
       "Tata Motors               247     40329            -4.2   1111.6   42162   \n",
       "Aluminum Corp. of China   248     40278             6.0   -282.5   75089   \n",
       "Mitsui                    249     40275             1.6   2825.3  103231   \n",
       "Manulife Financial        250     40238            49.4   2209.7  537461   \n",
       "China Minsheng Banking    251     40234            -5.2   7201.6  848389   \n",
       "\n",
       "                         profit_change                ceo  \\\n",
       "company                                                     \n",
       "Tata Motors                      -34.0   Guenter Butschek   \n",
       "Aluminum Corp. of China            NaN           Yu Dehui   \n",
       "Mitsui                             NaN    Tatsuo Yasunaga   \n",
       "Manulife Financial                28.9  Donald A. Guloien   \n",
       "China Minsheng Banking            -1.8      Zheng Wanchun   \n",
       "\n",
       "                                                industry  \\\n",
       "company                                                    \n",
       "Tata Motors                     Motor Vehicles and Parts   \n",
       "Aluminum Corp. of China                           Metals   \n",
       "Mitsui                                           Trading   \n",
       "Manulife Financial       Insurance: Life, Health (stock)   \n",
       "China Minsheng Banking     Banks: Commercial and Savings   \n",
       "\n",
       "                                         sector  previous_rank country  \n",
       "company                                                                 \n",
       "Tata Motors              Motor Vehicles & Parts            226   India  \n",
       "Aluminum Corp. of China               Materials            262   China  \n",
       "Mitsui                              Wholesalers            245   Japan  \n",
       "Manulife Financial                   Financials            394  Canada  \n",
       "China Minsheng Banking               Financials            221   China  "
      ]
     },
     "execution_count": 99,
     "metadata": {},
     "output_type": "execute_result"
    }
   ],
   "source": [
    "middle_companies.head()"
   ]
  },
  {
   "cell_type": "code",
   "execution_count": 98,
   "metadata": {},
   "outputs": [],
   "source": [
    "drink_companies = f500.loc[[\"Anheuser-Busch InBev\",\"Coca-Cola\",\"Heineken Holding\"]]"
   ]
  },
  {
   "cell_type": "code",
   "execution_count": 100,
   "metadata": {},
   "outputs": [
    {
     "data": {
      "text/html": [
       "<div>\n",
       "<style scoped>\n",
       "    .dataframe tbody tr th:only-of-type {\n",
       "        vertical-align: middle;\n",
       "    }\n",
       "\n",
       "    .dataframe tbody tr th {\n",
       "        vertical-align: top;\n",
       "    }\n",
       "\n",
       "    .dataframe thead th {\n",
       "        text-align: right;\n",
       "    }\n",
       "</style>\n",
       "<table border=\"1\" class=\"dataframe\">\n",
       "  <thead>\n",
       "    <tr style=\"text-align: right;\">\n",
       "      <th></th>\n",
       "      <th>rank</th>\n",
       "      <th>revenues</th>\n",
       "      <th>revenue_change</th>\n",
       "      <th>profits</th>\n",
       "      <th>assets</th>\n",
       "      <th>profit_change</th>\n",
       "      <th>ceo</th>\n",
       "      <th>industry</th>\n",
       "      <th>sector</th>\n",
       "      <th>previous_rank</th>\n",
       "      <th>country</th>\n",
       "      <th>hq_location</th>\n",
       "      <th>website</th>\n",
       "      <th>years_on_global_500_list</th>\n",
       "      <th>employees</th>\n",
       "      <th>total_stockholder_equity</th>\n",
       "    </tr>\n",
       "    <tr>\n",
       "      <th>company</th>\n",
       "      <th></th>\n",
       "      <th></th>\n",
       "      <th></th>\n",
       "      <th></th>\n",
       "      <th></th>\n",
       "      <th></th>\n",
       "      <th></th>\n",
       "      <th></th>\n",
       "      <th></th>\n",
       "      <th></th>\n",
       "      <th></th>\n",
       "      <th></th>\n",
       "      <th></th>\n",
       "      <th></th>\n",
       "      <th></th>\n",
       "      <th></th>\n",
       "    </tr>\n",
       "  </thead>\n",
       "  <tbody>\n",
       "    <tr>\n",
       "      <th>Anheuser-Busch InBev</th>\n",
       "      <td>206</td>\n",
       "      <td>45905</td>\n",
       "      <td>5.3</td>\n",
       "      <td>1241.0</td>\n",
       "      <td>258381</td>\n",
       "      <td>-85.0</td>\n",
       "      <td>Carlos Brito</td>\n",
       "      <td>Beverages</td>\n",
       "      <td>Food, Beverages &amp; Tobacco</td>\n",
       "      <td>211</td>\n",
       "      <td>Belgium</td>\n",
       "      <td>Leuven, Belgium</td>\n",
       "      <td>http://www.ab-inbev.com</td>\n",
       "      <td>12</td>\n",
       "      <td>206633</td>\n",
       "      <td>71339</td>\n",
       "    </tr>\n",
       "    <tr>\n",
       "      <th>Coca-Cola</th>\n",
       "      <td>235</td>\n",
       "      <td>41863</td>\n",
       "      <td>-5.5</td>\n",
       "      <td>6527.0</td>\n",
       "      <td>87270</td>\n",
       "      <td>-11.2</td>\n",
       "      <td>James B. Quincey</td>\n",
       "      <td>Beverages</td>\n",
       "      <td>Food, Beverages &amp; Tobacco</td>\n",
       "      <td>206</td>\n",
       "      <td>USA</td>\n",
       "      <td>Atlanta, GA</td>\n",
       "      <td>http://www.coca-colacompany.com</td>\n",
       "      <td>23</td>\n",
       "      <td>100300</td>\n",
       "      <td>23062</td>\n",
       "    </tr>\n",
       "    <tr>\n",
       "      <th>Heineken Holding</th>\n",
       "      <td>468</td>\n",
       "      <td>23044</td>\n",
       "      <td>-0.7</td>\n",
       "      <td>861.5</td>\n",
       "      <td>41469</td>\n",
       "      <td>-18.9</td>\n",
       "      <td>Jean-Francois van Boxmeer</td>\n",
       "      <td>Beverages</td>\n",
       "      <td>Food, Beverages &amp; Tobacco</td>\n",
       "      <td>459</td>\n",
       "      <td>Netherlands</td>\n",
       "      <td>Amsterdam, Netherlands</td>\n",
       "      <td>http://www.theheinekencompany.com</td>\n",
       "      <td>11</td>\n",
       "      <td>73525</td>\n",
       "      <td>6958</td>\n",
       "    </tr>\n",
       "  </tbody>\n",
       "</table>\n",
       "</div>"
      ],
      "text/plain": [
       "                      rank  revenues  revenue_change  profits  assets  \\\n",
       "company                                                                 \n",
       "Anheuser-Busch InBev   206     45905             5.3   1241.0  258381   \n",
       "Coca-Cola              235     41863            -5.5   6527.0   87270   \n",
       "Heineken Holding       468     23044            -0.7    861.5   41469   \n",
       "\n",
       "                      profit_change                        ceo   industry  \\\n",
       "company                                                                     \n",
       "Anheuser-Busch InBev          -85.0               Carlos Brito  Beverages   \n",
       "Coca-Cola                     -11.2           James B. Quincey  Beverages   \n",
       "Heineken Holding              -18.9  Jean-Francois van Boxmeer  Beverages   \n",
       "\n",
       "                                         sector  previous_rank      country  \\\n",
       "company                                                                       \n",
       "Anheuser-Busch InBev  Food, Beverages & Tobacco            211      Belgium   \n",
       "Coca-Cola             Food, Beverages & Tobacco            206          USA   \n",
       "Heineken Holding      Food, Beverages & Tobacco            459  Netherlands   \n",
       "\n",
       "                                 hq_location  \\\n",
       "company                                        \n",
       "Anheuser-Busch InBev         Leuven, Belgium   \n",
       "Coca-Cola                        Atlanta, GA   \n",
       "Heineken Holding      Amsterdam, Netherlands   \n",
       "\n",
       "                                                website  \\\n",
       "company                                                   \n",
       "Anheuser-Busch InBev            http://www.ab-inbev.com   \n",
       "Coca-Cola               http://www.coca-colacompany.com   \n",
       "Heineken Holding      http://www.theheinekencompany.com   \n",
       "\n",
       "                      years_on_global_500_list  employees  \\\n",
       "company                                                     \n",
       "Anheuser-Busch InBev                        12     206633   \n",
       "Coca-Cola                                   23     100300   \n",
       "Heineken Holding                            11      73525   \n",
       "\n",
       "                      total_stockholder_equity  \n",
       "company                                         \n",
       "Anheuser-Busch InBev                     71339  \n",
       "Coca-Cola                                23062  \n",
       "Heineken Holding                          6958  "
      ]
     },
     "execution_count": 100,
     "metadata": {},
     "output_type": "execute_result"
    }
   ],
   "source": [
    "drink_companies"
   ]
  },
  {
   "cell_type": "markdown",
   "metadata": {},
   "source": [
    "### Value_counts Method"
   ]
  },
  {
   "cell_type": "code",
   "execution_count": 104,
   "metadata": {},
   "outputs": [],
   "source": [
    "sectors = f500['sector']"
   ]
  },
  {
   "cell_type": "code",
   "execution_count": 105,
   "metadata": {},
   "outputs": [
    {
     "data": {
      "text/plain": [
       "Financials                       118\n",
       "Energy                            80\n",
       "Technology                        44\n",
       "Motor Vehicles & Parts            34\n",
       "Wholesalers                       28\n",
       "Health Care                       27\n",
       "Food & Drug Stores                20\n",
       "Transportation                    19\n",
       "Telecommunications                18\n",
       "Retailing                         17\n",
       "Materials                         16\n",
       "Food, Beverages & Tobacco         16\n",
       "Industrials                       15\n",
       "Aerospace & Defense               14\n",
       "Engineering & Construction        13\n",
       "Chemicals                          7\n",
       "Business Services                  3\n",
       "Media                              3\n",
       "Hotels, Restaurants & Leisure      3\n",
       "Household Products                 3\n",
       "Apparel                            2\n",
       "Name: sector, dtype: int64"
      ]
     },
     "execution_count": 105,
     "metadata": {},
     "output_type": "execute_result"
    }
   ],
   "source": [
    "sectors.value_counts()"
   ]
  },
  {
   "cell_type": "code",
   "execution_count": 115,
   "metadata": {},
   "outputs": [],
   "source": [
    "countries = f500['country']"
   ]
  },
  {
   "cell_type": "code",
   "execution_count": 116,
   "metadata": {},
   "outputs": [],
   "source": [
    "countries_counts = countries.value_counts()"
   ]
  },
  {
   "cell_type": "code",
   "execution_count": 117,
   "metadata": {},
   "outputs": [
    {
     "data": {
      "text/plain": [
       "USA             132\n",
       "China           109\n",
       "Japan            51\n",
       "France           29\n",
       "Germany          29\n",
       "Britain          24\n",
       "South Korea      15\n",
       "Switzerland      14\n",
       "Netherlands      14\n",
       "Canada           11\n",
       "Spain             9\n",
       "Brazil            7\n",
       "Australia         7\n",
       "India             7\n",
       "Italy             7\n",
       "Taiwan            6\n",
       "Ireland           4\n",
       "Russia            4\n",
       "Sweden            3\n",
       "Singapore         3\n",
       "Mexico            2\n",
       "Belgium           1\n",
       "Norway            1\n",
       "Luxembourg        1\n",
       "Saudi Arabia      1\n",
       "Finland           1\n",
       "Denmark           1\n",
       "Turkey            1\n",
       "Israel            1\n",
       "Venezuela         1\n",
       "Thailand          1\n",
       "Indonesia         1\n",
       "U.A.E             1\n",
       "Malaysia          1\n",
       "Name: country, dtype: int64"
      ]
     },
     "execution_count": 117,
     "metadata": {},
     "output_type": "execute_result"
    }
   ],
   "source": [
    "countries_counts"
   ]
  },
  {
   "cell_type": "code",
   "execution_count": 118,
   "metadata": {},
   "outputs": [],
   "source": [
    "india = countries_counts['India']"
   ]
  },
  {
   "cell_type": "code",
   "execution_count": 119,
   "metadata": {},
   "outputs": [],
   "source": [
    "north_america = countries_counts[['USA','Canada','Mexico']]"
   ]
  },
  {
   "cell_type": "code",
   "execution_count": 120,
   "metadata": {},
   "outputs": [
    {
     "data": {
      "text/plain": [
       "USA       132\n",
       "Canada     11\n",
       "Mexico      2\n",
       "Name: country, dtype: int64"
      ]
     },
     "execution_count": 120,
     "metadata": {},
     "output_type": "execute_result"
    }
   ],
   "source": [
    "north_america"
   ]
  },
  {
   "cell_type": "markdown",
   "metadata": {},
   "source": [
    "### Summary Challenge"
   ]
  },
  {
   "cell_type": "code",
   "execution_count": 122,
   "metadata": {},
   "outputs": [],
   "source": [
    "big_movers = f500.loc[['Aviva','HP','JD.com','BHP Billiton'],['rank','previous_rank']]"
   ]
  },
  {
   "cell_type": "code",
   "execution_count": 123,
   "metadata": {},
   "outputs": [],
   "source": [
    "bottom_companies = f500.loc['National Grid':'AutoNation',['rank','sector','country']]"
   ]
  },
  {
   "cell_type": "code",
   "execution_count": 124,
   "metadata": {},
   "outputs": [
    {
     "data": {
      "text/html": [
       "<div>\n",
       "<style scoped>\n",
       "    .dataframe tbody tr th:only-of-type {\n",
       "        vertical-align: middle;\n",
       "    }\n",
       "\n",
       "    .dataframe tbody tr th {\n",
       "        vertical-align: top;\n",
       "    }\n",
       "\n",
       "    .dataframe thead th {\n",
       "        text-align: right;\n",
       "    }\n",
       "</style>\n",
       "<table border=\"1\" class=\"dataframe\">\n",
       "  <thead>\n",
       "    <tr style=\"text-align: right;\">\n",
       "      <th></th>\n",
       "      <th>rank</th>\n",
       "      <th>sector</th>\n",
       "      <th>country</th>\n",
       "    </tr>\n",
       "    <tr>\n",
       "      <th>company</th>\n",
       "      <th></th>\n",
       "      <th></th>\n",
       "      <th></th>\n",
       "    </tr>\n",
       "  </thead>\n",
       "  <tbody>\n",
       "    <tr>\n",
       "      <th>National Grid</th>\n",
       "      <td>491</td>\n",
       "      <td>Energy</td>\n",
       "      <td>Britain</td>\n",
       "    </tr>\n",
       "    <tr>\n",
       "      <th>Dollar General</th>\n",
       "      <td>492</td>\n",
       "      <td>Retailing</td>\n",
       "      <td>USA</td>\n",
       "    </tr>\n",
       "    <tr>\n",
       "      <th>Telecom Italia</th>\n",
       "      <td>493</td>\n",
       "      <td>Telecommunications</td>\n",
       "      <td>Italy</td>\n",
       "    </tr>\n",
       "    <tr>\n",
       "      <th>Xiamen ITG Holding Group</th>\n",
       "      <td>494</td>\n",
       "      <td>Wholesalers</td>\n",
       "      <td>China</td>\n",
       "    </tr>\n",
       "    <tr>\n",
       "      <th>Xinjiang Guanghui Industry Investment</th>\n",
       "      <td>495</td>\n",
       "      <td>Wholesalers</td>\n",
       "      <td>China</td>\n",
       "    </tr>\n",
       "  </tbody>\n",
       "</table>\n",
       "</div>"
      ],
      "text/plain": [
       "                                       rank              sector  country\n",
       "company                                                                 \n",
       "National Grid                           491              Energy  Britain\n",
       "Dollar General                          492           Retailing      USA\n",
       "Telecom Italia                          493  Telecommunications    Italy\n",
       "Xiamen ITG Holding Group                494         Wholesalers    China\n",
       "Xinjiang Guanghui Industry Investment   495         Wholesalers    China"
      ]
     },
     "execution_count": 124,
     "metadata": {},
     "output_type": "execute_result"
    }
   ],
   "source": [
    "bottom_companies.head()"
   ]
  },
  {
   "cell_type": "code",
   "execution_count": 125,
   "metadata": {},
   "outputs": [
    {
     "data": {
      "text/html": [
       "<div>\n",
       "<style scoped>\n",
       "    .dataframe tbody tr th:only-of-type {\n",
       "        vertical-align: middle;\n",
       "    }\n",
       "\n",
       "    .dataframe tbody tr th {\n",
       "        vertical-align: top;\n",
       "    }\n",
       "\n",
       "    .dataframe thead th {\n",
       "        text-align: right;\n",
       "    }\n",
       "</style>\n",
       "<table border=\"1\" class=\"dataframe\">\n",
       "  <thead>\n",
       "    <tr style=\"text-align: right;\">\n",
       "      <th></th>\n",
       "      <th>rank</th>\n",
       "      <th>previous_rank</th>\n",
       "    </tr>\n",
       "    <tr>\n",
       "      <th>company</th>\n",
       "      <th></th>\n",
       "      <th></th>\n",
       "    </tr>\n",
       "  </thead>\n",
       "  <tbody>\n",
       "    <tr>\n",
       "      <th>Aviva</th>\n",
       "      <td>90</td>\n",
       "      <td>279</td>\n",
       "    </tr>\n",
       "    <tr>\n",
       "      <th>HP</th>\n",
       "      <td>194</td>\n",
       "      <td>48</td>\n",
       "    </tr>\n",
       "    <tr>\n",
       "      <th>JD.com</th>\n",
       "      <td>261</td>\n",
       "      <td>366</td>\n",
       "    </tr>\n",
       "    <tr>\n",
       "      <th>BHP Billiton</th>\n",
       "      <td>350</td>\n",
       "      <td>168</td>\n",
       "    </tr>\n",
       "  </tbody>\n",
       "</table>\n",
       "</div>"
      ],
      "text/plain": [
       "              rank  previous_rank\n",
       "company                          \n",
       "Aviva           90            279\n",
       "HP             194             48\n",
       "JD.com         261            366\n",
       "BHP Billiton   350            168"
      ]
     },
     "execution_count": 125,
     "metadata": {},
     "output_type": "execute_result"
    }
   ],
   "source": [
    "big_movers.head()"
   ]
  },
  {
   "cell_type": "markdown",
   "metadata": {},
   "source": [
    "# Exploring Data With Pandas Fundamentals"
   ]
  },
  {
   "cell_type": "markdown",
   "metadata": {},
   "source": [
    "### Vectorized Operation"
   ]
  },
  {
   "cell_type": "code",
   "execution_count": 126,
   "metadata": {},
   "outputs": [],
   "source": [
    "rank_change = f500['rank'] - f500['previous_rank']"
   ]
  },
  {
   "cell_type": "markdown",
   "metadata": {},
   "source": [
    "### Series Data Exploration Methods"
   ]
  },
  {
   "cell_type": "code",
   "execution_count": 128,
   "metadata": {},
   "outputs": [],
   "source": [
    "rank_change_max = rank_change.max()\n",
    "rank_change_min = rank_change.min()"
   ]
  },
  {
   "cell_type": "code",
   "execution_count": 129,
   "metadata": {},
   "outputs": [
    {
     "name": "stdout",
     "output_type": "stream",
     "text": [
      "500\n",
      "-226\n"
     ]
    }
   ],
   "source": [
    "print(rank_change_max)\n",
    "print(rank_change_min)"
   ]
  },
  {
   "cell_type": "markdown",
   "metadata": {},
   "source": [
    "### Series Describe Method "
   ]
  },
  {
   "cell_type": "code",
   "execution_count": 130,
   "metadata": {},
   "outputs": [],
   "source": [
    "rank = f500['rank']\n",
    "rank_desc = rank.describe()"
   ]
  },
  {
   "cell_type": "code",
   "execution_count": 131,
   "metadata": {},
   "outputs": [],
   "source": [
    "previous_rank = f500['previous_rank']\n",
    "previous_rank_desc = previous_rank.describe()"
   ]
  },
  {
   "cell_type": "code",
   "execution_count": 132,
   "metadata": {},
   "outputs": [
    {
     "name": "stdout",
     "output_type": "stream",
     "text": [
      "count    500.000000\n",
      "mean     250.500000\n",
      "std      144.481833\n",
      "min        1.000000\n",
      "25%      125.750000\n",
      "50%      250.500000\n",
      "75%      375.250000\n",
      "max      500.000000\n",
      "Name: rank, dtype: float64\n",
      "count    500.000000\n",
      "mean     222.134000\n",
      "std      146.941961\n",
      "min        0.000000\n",
      "25%       92.750000\n",
      "50%      219.500000\n",
      "75%      347.250000\n",
      "max      500.000000\n",
      "Name: previous_rank, dtype: float64\n"
     ]
    }
   ],
   "source": [
    "print(rank_desc)\n",
    "print(previous_rank_desc)"
   ]
  },
  {
   "cell_type": "markdown",
   "metadata": {},
   "source": [
    "### Method Chaining "
   ]
  },
  {
   "cell_type": "markdown",
   "metadata": {},
   "source": [
    "Use the series.value_counts() and series.loc to return the number of companies with a value of 0 in the previous rank column with value 0"
   ]
  },
  {
   "cell_type": "code",
   "execution_count": 134,
   "metadata": {},
   "outputs": [
    {
     "name": "stdout",
     "output_type": "stream",
     "text": [
      "33\n"
     ]
    }
   ],
   "source": [
    "print(f500['previous_rank'].value_counts().loc[0])"
   ]
  },
  {
   "cell_type": "markdown",
   "metadata": {},
   "source": [
    "### DF exploration Method"
   ]
  },
  {
   "cell_type": "code",
   "execution_count": 135,
   "metadata": {},
   "outputs": [],
   "source": [
    "max_f500 = f500.max(numeric_only = True)"
   ]
  },
  {
   "cell_type": "code",
   "execution_count": null,
   "metadata": {},
   "outputs": [],
   "source": []
  },
  {
   "cell_type": "code",
   "execution_count": 136,
   "metadata": {},
   "outputs": [],
   "source": [
    "f500_desc = f500.describe()"
   ]
  },
  {
   "cell_type": "code",
   "execution_count": 137,
   "metadata": {},
   "outputs": [
    {
     "data": {
      "text/html": [
       "<div>\n",
       "<style scoped>\n",
       "    .dataframe tbody tr th:only-of-type {\n",
       "        vertical-align: middle;\n",
       "    }\n",
       "\n",
       "    .dataframe tbody tr th {\n",
       "        vertical-align: top;\n",
       "    }\n",
       "\n",
       "    .dataframe thead th {\n",
       "        text-align: right;\n",
       "    }\n",
       "</style>\n",
       "<table border=\"1\" class=\"dataframe\">\n",
       "  <thead>\n",
       "    <tr style=\"text-align: right;\">\n",
       "      <th></th>\n",
       "      <th>rank</th>\n",
       "      <th>revenues</th>\n",
       "      <th>revenue_change</th>\n",
       "      <th>profits</th>\n",
       "      <th>assets</th>\n",
       "      <th>profit_change</th>\n",
       "      <th>previous_rank</th>\n",
       "      <th>years_on_global_500_list</th>\n",
       "      <th>employees</th>\n",
       "      <th>total_stockholder_equity</th>\n",
       "    </tr>\n",
       "  </thead>\n",
       "  <tbody>\n",
       "    <tr>\n",
       "      <th>count</th>\n",
       "      <td>500.000000</td>\n",
       "      <td>500.000000</td>\n",
       "      <td>498.000000</td>\n",
       "      <td>499.000000</td>\n",
       "      <td>5.000000e+02</td>\n",
       "      <td>436.000000</td>\n",
       "      <td>500.000000</td>\n",
       "      <td>500.000000</td>\n",
       "      <td>5.000000e+02</td>\n",
       "      <td>500.000000</td>\n",
       "    </tr>\n",
       "    <tr>\n",
       "      <th>mean</th>\n",
       "      <td>250.500000</td>\n",
       "      <td>55416.358000</td>\n",
       "      <td>4.538353</td>\n",
       "      <td>3055.203206</td>\n",
       "      <td>2.436323e+05</td>\n",
       "      <td>24.152752</td>\n",
       "      <td>222.134000</td>\n",
       "      <td>15.036000</td>\n",
       "      <td>1.339983e+05</td>\n",
       "      <td>30628.076000</td>\n",
       "    </tr>\n",
       "    <tr>\n",
       "      <th>std</th>\n",
       "      <td>144.481833</td>\n",
       "      <td>45725.478963</td>\n",
       "      <td>28.549067</td>\n",
       "      <td>5171.981071</td>\n",
       "      <td>4.851937e+05</td>\n",
       "      <td>437.509566</td>\n",
       "      <td>146.941961</td>\n",
       "      <td>7.932752</td>\n",
       "      <td>1.700878e+05</td>\n",
       "      <td>43642.576833</td>\n",
       "    </tr>\n",
       "    <tr>\n",
       "      <th>min</th>\n",
       "      <td>1.000000</td>\n",
       "      <td>21609.000000</td>\n",
       "      <td>-67.300000</td>\n",
       "      <td>-13038.000000</td>\n",
       "      <td>3.717000e+03</td>\n",
       "      <td>-793.700000</td>\n",
       "      <td>0.000000</td>\n",
       "      <td>1.000000</td>\n",
       "      <td>3.280000e+02</td>\n",
       "      <td>-59909.000000</td>\n",
       "    </tr>\n",
       "    <tr>\n",
       "      <th>25%</th>\n",
       "      <td>125.750000</td>\n",
       "      <td>29003.000000</td>\n",
       "      <td>-5.900000</td>\n",
       "      <td>556.950000</td>\n",
       "      <td>3.658850e+04</td>\n",
       "      <td>-22.775000</td>\n",
       "      <td>92.750000</td>\n",
       "      <td>7.000000</td>\n",
       "      <td>4.293250e+04</td>\n",
       "      <td>7553.750000</td>\n",
       "    </tr>\n",
       "    <tr>\n",
       "      <th>50%</th>\n",
       "      <td>250.500000</td>\n",
       "      <td>40236.000000</td>\n",
       "      <td>0.550000</td>\n",
       "      <td>1761.600000</td>\n",
       "      <td>7.326150e+04</td>\n",
       "      <td>-0.350000</td>\n",
       "      <td>219.500000</td>\n",
       "      <td>17.000000</td>\n",
       "      <td>9.291050e+04</td>\n",
       "      <td>15809.500000</td>\n",
       "    </tr>\n",
       "    <tr>\n",
       "      <th>75%</th>\n",
       "      <td>375.250000</td>\n",
       "      <td>63926.750000</td>\n",
       "      <td>6.975000</td>\n",
       "      <td>3954.000000</td>\n",
       "      <td>1.805640e+05</td>\n",
       "      <td>17.700000</td>\n",
       "      <td>347.250000</td>\n",
       "      <td>23.000000</td>\n",
       "      <td>1.689172e+05</td>\n",
       "      <td>37828.500000</td>\n",
       "    </tr>\n",
       "    <tr>\n",
       "      <th>max</th>\n",
       "      <td>500.000000</td>\n",
       "      <td>485873.000000</td>\n",
       "      <td>442.300000</td>\n",
       "      <td>45687.000000</td>\n",
       "      <td>3.473238e+06</td>\n",
       "      <td>8909.500000</td>\n",
       "      <td>500.000000</td>\n",
       "      <td>23.000000</td>\n",
       "      <td>2.300000e+06</td>\n",
       "      <td>301893.000000</td>\n",
       "    </tr>\n",
       "  </tbody>\n",
       "</table>\n",
       "</div>"
      ],
      "text/plain": [
       "             rank       revenues  revenue_change       profits        assets  \\\n",
       "count  500.000000     500.000000      498.000000    499.000000  5.000000e+02   \n",
       "mean   250.500000   55416.358000        4.538353   3055.203206  2.436323e+05   \n",
       "std    144.481833   45725.478963       28.549067   5171.981071  4.851937e+05   \n",
       "min      1.000000   21609.000000      -67.300000 -13038.000000  3.717000e+03   \n",
       "25%    125.750000   29003.000000       -5.900000    556.950000  3.658850e+04   \n",
       "50%    250.500000   40236.000000        0.550000   1761.600000  7.326150e+04   \n",
       "75%    375.250000   63926.750000        6.975000   3954.000000  1.805640e+05   \n",
       "max    500.000000  485873.000000      442.300000  45687.000000  3.473238e+06   \n",
       "\n",
       "       profit_change  previous_rank  years_on_global_500_list     employees  \\\n",
       "count     436.000000     500.000000                500.000000  5.000000e+02   \n",
       "mean       24.152752     222.134000                 15.036000  1.339983e+05   \n",
       "std       437.509566     146.941961                  7.932752  1.700878e+05   \n",
       "min      -793.700000       0.000000                  1.000000  3.280000e+02   \n",
       "25%       -22.775000      92.750000                  7.000000  4.293250e+04   \n",
       "50%        -0.350000     219.500000                 17.000000  9.291050e+04   \n",
       "75%        17.700000     347.250000                 23.000000  1.689172e+05   \n",
       "max      8909.500000     500.000000                 23.000000  2.300000e+06   \n",
       "\n",
       "       total_stockholder_equity  \n",
       "count                500.000000  \n",
       "mean               30628.076000  \n",
       "std                43642.576833  \n",
       "min               -59909.000000  \n",
       "25%                 7553.750000  \n",
       "50%                15809.500000  \n",
       "75%                37828.500000  \n",
       "max               301893.000000  "
      ]
     },
     "execution_count": 137,
     "metadata": {},
     "output_type": "execute_result"
    }
   ],
   "source": [
    "f500_desc"
   ]
  },
  {
   "cell_type": "markdown",
   "metadata": {},
   "source": [
    "### Assignment with pandas"
   ]
  },
  {
   "cell_type": "code",
   "execution_count": 147,
   "metadata": {},
   "outputs": [],
   "source": [
    "f500.loc['Dow Chemical','ceo'] = 'Jim Filtering'"
   ]
  },
  {
   "cell_type": "markdown",
   "metadata": {},
   "source": [
    "### Using Boolean Indexing"
   ]
  },
  {
   "cell_type": "code",
   "execution_count": 150,
   "metadata": {},
   "outputs": [],
   "source": [
    "motor_bool = f500['industry'] == 'Motors Vechicles and Parts'\n",
    "motor_countries = f500.loc[motor_bool,'country']"
   ]
  },
  {
   "cell_type": "code",
   "execution_count": 151,
   "metadata": {},
   "outputs": [
    {
     "data": {
      "text/plain": [
       "Series([], Name: country, dtype: object)"
      ]
     },
     "execution_count": 151,
     "metadata": {},
     "output_type": "execute_result"
    }
   ],
   "source": [
    "motor_countries"
   ]
  },
  {
   "cell_type": "code",
   "execution_count": 159,
   "metadata": {},
   "outputs": [],
   "source": [
    "import numpy as np\n",
    "prev_rank_before = f500.loc[f500['previous_rank'] == 0, 'previous_rank'] = np.nan"
   ]
  },
  {
   "cell_type": "code",
   "execution_count": 160,
   "metadata": {},
   "outputs": [
    {
     "data": {
      "text/plain": [
       "nan"
      ]
     },
     "execution_count": 160,
     "metadata": {},
     "output_type": "execute_result"
    }
   ],
   "source": [
    "prev_rank_before"
   ]
  },
  {
   "cell_type": "code",
   "execution_count": 161,
   "metadata": {},
   "outputs": [
    {
     "data": {
      "text/plain": [
       "NaN       33\n",
       " 471.0     1\n",
       " 234.0     1\n",
       " 125.0     1\n",
       " 166.0     1\n",
       "Name: previous_rank, dtype: int64"
      ]
     },
     "execution_count": 161,
     "metadata": {},
     "output_type": "execute_result"
    }
   ],
   "source": [
    "f500['previous_rank'].value_counts(dropna=False).head()"
   ]
  },
  {
   "cell_type": "markdown",
   "metadata": {},
   "source": [
    "### Creating New Columns"
   ]
  },
  {
   "cell_type": "code",
   "execution_count": 162,
   "metadata": {},
   "outputs": [],
   "source": [
    "f500['rank_change'] = f500['rank'] - f500['previous_rank']"
   ]
  },
  {
   "cell_type": "code",
   "execution_count": 164,
   "metadata": {},
   "outputs": [
    {
     "data": {
      "text/plain": [
       "count    467.000000\n",
       "mean       3.533191\n",
       "std       44.293603\n",
       "min     -226.000000\n",
       "25%      -10.000000\n",
       "50%        2.000000\n",
       "75%       21.000000\n",
       "max      199.000000\n",
       "Name: rank_change, dtype: float64"
      ]
     },
     "execution_count": 164,
     "metadata": {},
     "output_type": "execute_result"
    }
   ],
   "source": [
    "f500['rank_change'].describe()"
   ]
  },
  {
   "cell_type": "markdown",
   "metadata": {},
   "source": [
    "### Top two countries"
   ]
  },
  {
   "cell_type": "code",
   "execution_count": 165,
   "metadata": {},
   "outputs": [],
   "source": [
    "top_2_countries = f500['country'].value_counts().head(2) "
   ]
  },
  {
   "cell_type": "code",
   "execution_count": 166,
   "metadata": {},
   "outputs": [
    {
     "data": {
      "text/plain": [
       "USA      122\n",
       "China     99\n",
       "Name: country, dtype: int64"
      ]
     },
     "execution_count": 166,
     "metadata": {},
     "output_type": "execute_result"
    }
   ],
   "source": [
    "top_2_countries"
   ]
  },
  {
   "cell_type": "code",
   "execution_count": 195,
   "metadata": {},
   "outputs": [],
   "source": [
    "a = f500['country'] == 'USA'\n",
    "b = f500.loc[a,'industry'] "
   ]
  },
  {
   "cell_type": "code",
   "execution_count": 196,
   "metadata": {},
   "outputs": [
    {
     "data": {
      "text/plain": [
       "Banks: Commercial and Savings               8\n",
       "Insurance: Property and Casualty (Stock)    6\n",
       "Aerospace and Defense                       6\n",
       "Pharmaceuticals                             6\n",
       "Petroleum Refining                          6\n",
       "Name: industry, dtype: int64"
      ]
     },
     "execution_count": 196,
     "metadata": {},
     "output_type": "execute_result"
    }
   ],
   "source": [
    "b.value_counts().head()"
   ]
  },
  {
   "cell_type": "code",
   "execution_count": 192,
   "metadata": {},
   "outputs": [
    {
     "data": {
      "text/plain": [
       "Banks: Commercial and Savings               8\n",
       "Insurance: Property and Casualty (Stock)    6\n",
       "Aerospace and Defense                       6\n",
       "Pharmaceuticals                             6\n",
       "Petroleum Refining                          6\n",
       "Name: industry, dtype: int64"
      ]
     },
     "execution_count": 192,
     "metadata": {},
     "output_type": "execute_result"
    }
   ],
   "source": [
    "f500.loc[f500['country']=='USA','industry'].value_counts().head()"
   ]
  },
  {
   "cell_type": "code",
   "execution_count": 198,
   "metadata": {},
   "outputs": [],
   "source": [
    "c = f500['country'] == 'China'\n",
    "d = f500.loc[c,'sector']"
   ]
  },
  {
   "cell_type": "code",
   "execution_count": 199,
   "metadata": {},
   "outputs": [
    {
     "data": {
      "text/plain": [
       "Financials                    22\n",
       "Energy                        22\n",
       "Engineering & Construction     8\n",
       "Motor Vehicles & Parts         7\n",
       "Materials                      7\n",
       "Name: sector, dtype: int64"
      ]
     },
     "execution_count": 199,
     "metadata": {},
     "output_type": "execute_result"
    }
   ],
   "source": [
    "d.value_counts().head()"
   ]
  },
  {
   "cell_type": "markdown",
   "metadata": {},
   "source": [
    "### Using iloc to select integer position"
   ]
  },
  {
   "cell_type": "code",
   "execution_count": 205,
   "metadata": {},
   "outputs": [
    {
     "data": {
      "text/plain": [
       "rank                                                   5\n",
       "revenues                                          254694\n",
       "revenue_change                                       7.7\n",
       "profits                                          16899.3\n",
       "assets                                            437575\n",
       "profit_change                                      -12.3\n",
       "ceo                                          Akio Toyoda\n",
       "industry                        Motor Vehicles and Parts\n",
       "sector                            Motor Vehicles & Parts\n",
       "previous_rank                                          8\n",
       "country                                            Japan\n",
       "hq_location                                Toyota, Japan\n",
       "website                     http://www.toyota-global.com\n",
       "years_on_global_500_list                              23\n",
       "employees                                         364445\n",
       "total_stockholder_equity                          157210\n",
       "rank_change                                           -3\n",
       "Name: Toyota Motor, dtype: object"
      ]
     },
     "execution_count": 205,
     "metadata": {},
     "output_type": "execute_result"
    }
   ],
   "source": [
    "fifth_row = f500.iloc[4]\n",
    "fifth_row"
   ]
  },
  {
   "cell_type": "code",
   "execution_count": 204,
   "metadata": {},
   "outputs": [
    {
     "data": {
      "text/plain": [
       "1.0"
      ]
     },
     "execution_count": 204,
     "metadata": {},
     "output_type": "execute_result"
    }
   ],
   "source": [
    "company_value = f500.iloc[0,0]\n",
    "company_value"
   ]
  },
  {
   "cell_type": "code",
   "execution_count": 206,
   "metadata": {},
   "outputs": [],
   "source": [
    "first_three_rows = f500.iloc[:3]"
   ]
  },
  {
   "cell_type": "code",
   "execution_count": 207,
   "metadata": {},
   "outputs": [
    {
     "data": {
      "text/html": [
       "<div>\n",
       "<style scoped>\n",
       "    .dataframe tbody tr th:only-of-type {\n",
       "        vertical-align: middle;\n",
       "    }\n",
       "\n",
       "    .dataframe tbody tr th {\n",
       "        vertical-align: top;\n",
       "    }\n",
       "\n",
       "    .dataframe thead th {\n",
       "        text-align: right;\n",
       "    }\n",
       "</style>\n",
       "<table border=\"1\" class=\"dataframe\">\n",
       "  <thead>\n",
       "    <tr style=\"text-align: right;\">\n",
       "      <th></th>\n",
       "      <th>rank</th>\n",
       "      <th>revenues</th>\n",
       "      <th>revenue_change</th>\n",
       "      <th>profits</th>\n",
       "      <th>assets</th>\n",
       "      <th>profit_change</th>\n",
       "      <th>ceo</th>\n",
       "      <th>industry</th>\n",
       "      <th>sector</th>\n",
       "      <th>previous_rank</th>\n",
       "      <th>country</th>\n",
       "      <th>hq_location</th>\n",
       "      <th>website</th>\n",
       "      <th>years_on_global_500_list</th>\n",
       "      <th>employees</th>\n",
       "      <th>total_stockholder_equity</th>\n",
       "      <th>rank_change</th>\n",
       "    </tr>\n",
       "    <tr>\n",
       "      <th>company</th>\n",
       "      <th></th>\n",
       "      <th></th>\n",
       "      <th></th>\n",
       "      <th></th>\n",
       "      <th></th>\n",
       "      <th></th>\n",
       "      <th></th>\n",
       "      <th></th>\n",
       "      <th></th>\n",
       "      <th></th>\n",
       "      <th></th>\n",
       "      <th></th>\n",
       "      <th></th>\n",
       "      <th></th>\n",
       "      <th></th>\n",
       "      <th></th>\n",
       "      <th></th>\n",
       "    </tr>\n",
       "  </thead>\n",
       "  <tbody>\n",
       "    <tr>\n",
       "      <th>Walmart</th>\n",
       "      <td>1.0</td>\n",
       "      <td>485873.0</td>\n",
       "      <td>0.8</td>\n",
       "      <td>13643.0</td>\n",
       "      <td>198825.0</td>\n",
       "      <td>-7.2</td>\n",
       "      <td>C. Douglas McMillon</td>\n",
       "      <td>General Merchandisers</td>\n",
       "      <td>Retailing</td>\n",
       "      <td>1.0</td>\n",
       "      <td>USA</td>\n",
       "      <td>Bentonville, AR</td>\n",
       "      <td>http://www.walmart.com</td>\n",
       "      <td>23.0</td>\n",
       "      <td>2300000.0</td>\n",
       "      <td>77798.0</td>\n",
       "      <td>0.0</td>\n",
       "    </tr>\n",
       "    <tr>\n",
       "      <th>State Grid</th>\n",
       "      <td>2.0</td>\n",
       "      <td>315199.0</td>\n",
       "      <td>-4.4</td>\n",
       "      <td>9571.3</td>\n",
       "      <td>489838.0</td>\n",
       "      <td>-6.2</td>\n",
       "      <td>Kou Wei</td>\n",
       "      <td>Utilities</td>\n",
       "      <td>Energy</td>\n",
       "      <td>2.0</td>\n",
       "      <td>China</td>\n",
       "      <td>Beijing, China</td>\n",
       "      <td>http://www.sgcc.com.cn</td>\n",
       "      <td>17.0</td>\n",
       "      <td>926067.0</td>\n",
       "      <td>209456.0</td>\n",
       "      <td>0.0</td>\n",
       "    </tr>\n",
       "    <tr>\n",
       "      <th>Sinopec Group</th>\n",
       "      <td>3.0</td>\n",
       "      <td>267518.0</td>\n",
       "      <td>-9.1</td>\n",
       "      <td>1257.9</td>\n",
       "      <td>310726.0</td>\n",
       "      <td>-65.0</td>\n",
       "      <td>Wang Yupu</td>\n",
       "      <td>Petroleum Refining</td>\n",
       "      <td>Energy</td>\n",
       "      <td>4.0</td>\n",
       "      <td>China</td>\n",
       "      <td>Beijing, China</td>\n",
       "      <td>http://www.sinopec.com</td>\n",
       "      <td>19.0</td>\n",
       "      <td>713288.0</td>\n",
       "      <td>106523.0</td>\n",
       "      <td>-1.0</td>\n",
       "    </tr>\n",
       "  </tbody>\n",
       "</table>\n",
       "</div>"
      ],
      "text/plain": [
       "               rank  revenues  revenue_change  profits    assets  \\\n",
       "company                                                            \n",
       "Walmart         1.0  485873.0             0.8  13643.0  198825.0   \n",
       "State Grid      2.0  315199.0            -4.4   9571.3  489838.0   \n",
       "Sinopec Group   3.0  267518.0            -9.1   1257.9  310726.0   \n",
       "\n",
       "               profit_change                  ceo               industry  \\\n",
       "company                                                                    \n",
       "Walmart                 -7.2  C. Douglas McMillon  General Merchandisers   \n",
       "State Grid              -6.2              Kou Wei              Utilities   \n",
       "Sinopec Group          -65.0            Wang Yupu     Petroleum Refining   \n",
       "\n",
       "                  sector  previous_rank country      hq_location  \\\n",
       "company                                                            \n",
       "Walmart        Retailing            1.0     USA  Bentonville, AR   \n",
       "State Grid        Energy            2.0   China   Beijing, China   \n",
       "Sinopec Group     Energy            4.0   China   Beijing, China   \n",
       "\n",
       "                              website  years_on_global_500_list  employees  \\\n",
       "company                                                                      \n",
       "Walmart        http://www.walmart.com                      23.0  2300000.0   \n",
       "State Grid     http://www.sgcc.com.cn                      17.0   926067.0   \n",
       "Sinopec Group  http://www.sinopec.com                      19.0   713288.0   \n",
       "\n",
       "               total_stockholder_equity  rank_change  \n",
       "company                                               \n",
       "Walmart                         77798.0          0.0  \n",
       "State Grid                     209456.0          0.0  \n",
       "Sinopec Group                  106523.0         -1.0  "
      ]
     },
     "execution_count": 207,
     "metadata": {},
     "output_type": "execute_result"
    }
   ],
   "source": [
    "first_three_rows"
   ]
  },
  {
   "cell_type": "code",
   "execution_count": 210,
   "metadata": {},
   "outputs": [
    {
     "data": {
      "text/html": [
       "<div>\n",
       "<style scoped>\n",
       "    .dataframe tbody tr th:only-of-type {\n",
       "        vertical-align: middle;\n",
       "    }\n",
       "\n",
       "    .dataframe tbody tr th {\n",
       "        vertical-align: top;\n",
       "    }\n",
       "\n",
       "    .dataframe thead th {\n",
       "        text-align: right;\n",
       "    }\n",
       "</style>\n",
       "<table border=\"1\" class=\"dataframe\">\n",
       "  <thead>\n",
       "    <tr style=\"text-align: right;\">\n",
       "      <th></th>\n",
       "      <th>rank</th>\n",
       "      <th>revenues</th>\n",
       "      <th>revenue_change</th>\n",
       "      <th>profits</th>\n",
       "      <th>assets</th>\n",
       "    </tr>\n",
       "    <tr>\n",
       "      <th>company</th>\n",
       "      <th></th>\n",
       "      <th></th>\n",
       "      <th></th>\n",
       "      <th></th>\n",
       "      <th></th>\n",
       "    </tr>\n",
       "  </thead>\n",
       "  <tbody>\n",
       "    <tr>\n",
       "      <th>Walmart</th>\n",
       "      <td>1.0</td>\n",
       "      <td>485873.0</td>\n",
       "      <td>0.8</td>\n",
       "      <td>13643.0</td>\n",
       "      <td>198825.0</td>\n",
       "    </tr>\n",
       "    <tr>\n",
       "      <th>Royal Dutch Shell</th>\n",
       "      <td>7.0</td>\n",
       "      <td>240033.0</td>\n",
       "      <td>-11.8</td>\n",
       "      <td>4575.0</td>\n",
       "      <td>411275.0</td>\n",
       "    </tr>\n",
       "  </tbody>\n",
       "</table>\n",
       "</div>"
      ],
      "text/plain": [
       "                   rank  revenues  revenue_change  profits    assets\n",
       "company                                                             \n",
       "Walmart             1.0  485873.0             0.8  13643.0  198825.0\n",
       "Royal Dutch Shell   7.0  240033.0           -11.8   4575.0  411275.0"
      ]
     },
     "execution_count": 210,
     "metadata": {},
     "output_type": "execute_result"
    }
   ],
   "source": [
    "first_seventh_row_slice = f500.iloc[[0,6],:5]\n",
    "first_seventh_row_slice"
   ]
  },
  {
   "cell_type": "markdown",
   "metadata": {},
   "source": [
    "###  Creating Boolean Mask"
   ]
  },
  {
   "cell_type": "code",
   "execution_count": 227,
   "metadata": {},
   "outputs": [
    {
     "name": "stdout",
     "output_type": "stream",
     "text": [
      "f500 added successfully\n"
     ]
    }
   ],
   "source": [
    "f500 = pd.read_csv(\"C:/Users/obalana prosper/Videos/New folder (3)/f500.csv\")\n",
    "print(\"f500 added successfully\")"
   ]
  },
  {
   "cell_type": "code",
   "execution_count": 228,
   "metadata": {},
   "outputs": [
    {
     "data": {
      "text/plain": [
       "0    False\n",
       "1    False\n",
       "2    False\n",
       "3    False\n",
       "4    False\n",
       "Name: revenue_change, dtype: bool"
      ]
     },
     "execution_count": 228,
     "metadata": {},
     "output_type": "execute_result"
    }
   ],
   "source": [
    "rev_isnull = f500['revenue_change'].isnull()\n",
    "rev_isnull.head()"
   ]
  },
  {
   "cell_type": "code",
   "execution_count": 232,
   "metadata": {},
   "outputs": [],
   "source": [
    "prev = f500['previous_rank'].isnull()\n",
    "prev_change = f500[prev]\n",
    "prev_isnull = prev_change[['company','rank','previous_rank']]\n"
   ]
  },
  {
   "cell_type": "code",
   "execution_count": 234,
   "metadata": {},
   "outputs": [
    {
     "data": {
      "text/html": [
       "<div>\n",
       "<style scoped>\n",
       "    .dataframe tbody tr th:only-of-type {\n",
       "        vertical-align: middle;\n",
       "    }\n",
       "\n",
       "    .dataframe tbody tr th {\n",
       "        vertical-align: top;\n",
       "    }\n",
       "\n",
       "    .dataframe thead th {\n",
       "        text-align: right;\n",
       "    }\n",
       "</style>\n",
       "<table border=\"1\" class=\"dataframe\">\n",
       "  <thead>\n",
       "    <tr style=\"text-align: right;\">\n",
       "      <th></th>\n",
       "      <th>company</th>\n",
       "      <th>revenues</th>\n",
       "      <th>country</th>\n",
       "    </tr>\n",
       "  </thead>\n",
       "  <tbody>\n",
       "    <tr>\n",
       "      <th>0</th>\n",
       "      <td>Walmart</td>\n",
       "      <td>485873</td>\n",
       "      <td>USA</td>\n",
       "    </tr>\n",
       "    <tr>\n",
       "      <th>1</th>\n",
       "      <td>State Grid</td>\n",
       "      <td>315199</td>\n",
       "      <td>China</td>\n",
       "    </tr>\n",
       "    <tr>\n",
       "      <th>2</th>\n",
       "      <td>Sinopec Group</td>\n",
       "      <td>267518</td>\n",
       "      <td>China</td>\n",
       "    </tr>\n",
       "    <tr>\n",
       "      <th>3</th>\n",
       "      <td>China National Petroleum</td>\n",
       "      <td>262573</td>\n",
       "      <td>China</td>\n",
       "    </tr>\n",
       "    <tr>\n",
       "      <th>4</th>\n",
       "      <td>Toyota Motor</td>\n",
       "      <td>254694</td>\n",
       "      <td>Japan</td>\n",
       "    </tr>\n",
       "  </tbody>\n",
       "</table>\n",
       "</div>"
      ],
      "text/plain": [
       "                    company  revenues country\n",
       "0                   Walmart    485873     USA\n",
       "1                State Grid    315199   China\n",
       "2             Sinopec Group    267518   China\n",
       "3  China National Petroleum    262573   China\n",
       "4              Toyota Motor    254694   Japan"
      ]
     },
     "execution_count": 234,
     "metadata": {},
     "output_type": "execute_result"
    }
   ],
   "source": [
    "col = ['company','revenues','country']\n",
    "f500_sel = f500[col].head()\n",
    "f500_sel"
   ]
  },
  {
   "cell_type": "code",
   "execution_count": 238,
   "metadata": {},
   "outputs": [],
   "source": [
    "over_265 = f500_sel['revenues']>265000\n",
    "china = f500_sel['country'] == 'China'\n",
    "combined = over_265 & china"
   ]
  },
  {
   "cell_type": "code",
   "execution_count": 239,
   "metadata": {},
   "outputs": [],
   "source": [
    "final_cols = ['company','revenues']\n",
    "result = f500_sel.loc[combined,final_cols]"
   ]
  },
  {
   "cell_type": "code",
   "execution_count": 240,
   "metadata": {},
   "outputs": [
    {
     "data": {
      "text/html": [
       "<div>\n",
       "<style scoped>\n",
       "    .dataframe tbody tr th:only-of-type {\n",
       "        vertical-align: middle;\n",
       "    }\n",
       "\n",
       "    .dataframe tbody tr th {\n",
       "        vertical-align: top;\n",
       "    }\n",
       "\n",
       "    .dataframe thead th {\n",
       "        text-align: right;\n",
       "    }\n",
       "</style>\n",
       "<table border=\"1\" class=\"dataframe\">\n",
       "  <thead>\n",
       "    <tr style=\"text-align: right;\">\n",
       "      <th></th>\n",
       "      <th>company</th>\n",
       "      <th>revenues</th>\n",
       "    </tr>\n",
       "  </thead>\n",
       "  <tbody>\n",
       "    <tr>\n",
       "      <th>1</th>\n",
       "      <td>State Grid</td>\n",
       "      <td>315199</td>\n",
       "    </tr>\n",
       "    <tr>\n",
       "      <th>2</th>\n",
       "      <td>Sinopec Group</td>\n",
       "      <td>267518</td>\n",
       "    </tr>\n",
       "  </tbody>\n",
       "</table>\n",
       "</div>"
      ],
      "text/plain": [
       "         company  revenues\n",
       "1     State Grid    315199\n",
       "2  Sinopec Group    267518"
      ]
     },
     "execution_count": 240,
     "metadata": {},
     "output_type": "execute_result"
    }
   ],
   "source": [
    "result"
   ]
  },
  {
   "cell_type": "code",
   "execution_count": 261,
   "metadata": {},
   "outputs": [],
   "source": [
    "revenue = f500['revenues']>100000 "
   ]
  },
  {
   "cell_type": "code",
   "execution_count": 262,
   "metadata": {},
   "outputs": [],
   "source": [
    "neg= f500['profits']<0"
   ]
  },
  {
   "cell_type": "code",
   "execution_count": 263,
   "metadata": {},
   "outputs": [],
   "source": [
    "combined = revenue & neg"
   ]
  },
  {
   "cell_type": "code",
   "execution_count": 281,
   "metadata": {},
   "outputs": [
    {
     "data": {
      "text/plain": [
       "0    False\n",
       "1    False\n",
       "2    False\n",
       "3    False\n",
       "4    False\n",
       "dtype: bool"
      ]
     },
     "execution_count": 281,
     "metadata": {},
     "output_type": "execute_result"
    }
   ],
   "source": [
    "combined.head()"
   ]
  },
  {
   "cell_type": "code",
   "execution_count": 277,
   "metadata": {},
   "outputs": [],
   "source": [
    "brazil_venezuela = f500[(f500['country']=='Brazil') | (f500['country']=='Venezuela')].head()"
   ]
  },
  {
   "cell_type": "code",
   "execution_count": 278,
   "metadata": {},
   "outputs": [
    {
     "data": {
      "text/html": [
       "<div>\n",
       "<style scoped>\n",
       "    .dataframe tbody tr th:only-of-type {\n",
       "        vertical-align: middle;\n",
       "    }\n",
       "\n",
       "    .dataframe tbody tr th {\n",
       "        vertical-align: top;\n",
       "    }\n",
       "\n",
       "    .dataframe thead th {\n",
       "        text-align: right;\n",
       "    }\n",
       "</style>\n",
       "<table border=\"1\" class=\"dataframe\">\n",
       "  <thead>\n",
       "    <tr style=\"text-align: right;\">\n",
       "      <th></th>\n",
       "      <th>company</th>\n",
       "      <th>rank</th>\n",
       "      <th>revenues</th>\n",
       "      <th>revenue_change</th>\n",
       "      <th>profits</th>\n",
       "      <th>assets</th>\n",
       "      <th>profit_change</th>\n",
       "      <th>ceo</th>\n",
       "      <th>industry</th>\n",
       "      <th>sector</th>\n",
       "      <th>previous_rank</th>\n",
       "      <th>country</th>\n",
       "      <th>hq_location</th>\n",
       "      <th>website</th>\n",
       "      <th>years_on_global_500_list</th>\n",
       "      <th>employees</th>\n",
       "      <th>total_stockholder_equity</th>\n",
       "    </tr>\n",
       "  </thead>\n",
       "  <tbody>\n",
       "    <tr>\n",
       "      <th>74</th>\n",
       "      <td>Petrobras</td>\n",
       "      <td>75</td>\n",
       "      <td>81405</td>\n",
       "      <td>-16.3</td>\n",
       "      <td>-4838.0</td>\n",
       "      <td>246983</td>\n",
       "      <td>NaN</td>\n",
       "      <td>Pedro Pullen Parente</td>\n",
       "      <td>Petroleum Refining</td>\n",
       "      <td>Energy</td>\n",
       "      <td>58</td>\n",
       "      <td>Brazil</td>\n",
       "      <td>Rio de Janeiro, Brazil</td>\n",
       "      <td>http://www.petrobras.com.br</td>\n",
       "      <td>23</td>\n",
       "      <td>68829</td>\n",
       "      <td>76779</td>\n",
       "    </tr>\n",
       "    <tr>\n",
       "      <th>112</th>\n",
       "      <td>Itau Unibanco Holding</td>\n",
       "      <td>113</td>\n",
       "      <td>66876</td>\n",
       "      <td>21.4</td>\n",
       "      <td>6666.4</td>\n",
       "      <td>415972</td>\n",
       "      <td>-13.7</td>\n",
       "      <td>Candido Botelho Bracher</td>\n",
       "      <td>Banks: Commercial and Savings</td>\n",
       "      <td>Financials</td>\n",
       "      <td>159</td>\n",
       "      <td>Brazil</td>\n",
       "      <td>Sao Paulo, Brazil</td>\n",
       "      <td>http://www.itau.com.br</td>\n",
       "      <td>4</td>\n",
       "      <td>94779</td>\n",
       "      <td>37680</td>\n",
       "    </tr>\n",
       "    <tr>\n",
       "      <th>150</th>\n",
       "      <td>Banco do Brasil</td>\n",
       "      <td>151</td>\n",
       "      <td>58093</td>\n",
       "      <td>-13.4</td>\n",
       "      <td>2013.8</td>\n",
       "      <td>426416</td>\n",
       "      <td>-52.3</td>\n",
       "      <td>Paulo Rogerio Caffarelli</td>\n",
       "      <td>Banks: Commercial and Savings</td>\n",
       "      <td>Financials</td>\n",
       "      <td>115</td>\n",
       "      <td>Brazil</td>\n",
       "      <td>Brasilia, Brazil</td>\n",
       "      <td>http://www.bb.com.br</td>\n",
       "      <td>23</td>\n",
       "      <td>100622</td>\n",
       "      <td>26551</td>\n",
       "    </tr>\n",
       "    <tr>\n",
       "      <th>153</th>\n",
       "      <td>Banco Bradesco</td>\n",
       "      <td>154</td>\n",
       "      <td>57443</td>\n",
       "      <td>31.3</td>\n",
       "      <td>5127.9</td>\n",
       "      <td>366418</td>\n",
       "      <td>-5.7</td>\n",
       "      <td>Luiz Carlos Trabuco Cappi</td>\n",
       "      <td>Banks: Commercial and Savings</td>\n",
       "      <td>Financials</td>\n",
       "      <td>209</td>\n",
       "      <td>Brazil</td>\n",
       "      <td>Osasco, Brazil</td>\n",
       "      <td>http://www.bradesco.com.br</td>\n",
       "      <td>21</td>\n",
       "      <td>94541</td>\n",
       "      <td>32369</td>\n",
       "    </tr>\n",
       "    <tr>\n",
       "      <th>190</th>\n",
       "      <td>JBS</td>\n",
       "      <td>191</td>\n",
       "      <td>48825</td>\n",
       "      <td>-0.1</td>\n",
       "      <td>107.7</td>\n",
       "      <td>31605</td>\n",
       "      <td>-92.3</td>\n",
       "      <td>Wesley Mendonca Batista</td>\n",
       "      <td>Food Production</td>\n",
       "      <td>Food, Beverages &amp; Tobacco</td>\n",
       "      <td>185</td>\n",
       "      <td>Brazil</td>\n",
       "      <td>Sao Paulo, Brazil</td>\n",
       "      <td>http://jbss.infoinvest.com.br</td>\n",
       "      <td>8</td>\n",
       "      <td>237061</td>\n",
       "      <td>7307</td>\n",
       "    </tr>\n",
       "  </tbody>\n",
       "</table>\n",
       "</div>"
      ],
      "text/plain": [
       "                   company  rank  revenues  revenue_change  profits  assets  \\\n",
       "74               Petrobras    75     81405           -16.3  -4838.0  246983   \n",
       "112  Itau Unibanco Holding   113     66876            21.4   6666.4  415972   \n",
       "150        Banco do Brasil   151     58093           -13.4   2013.8  426416   \n",
       "153         Banco Bradesco   154     57443            31.3   5127.9  366418   \n",
       "190                    JBS   191     48825            -0.1    107.7   31605   \n",
       "\n",
       "     profit_change                        ceo                       industry  \\\n",
       "74             NaN       Pedro Pullen Parente             Petroleum Refining   \n",
       "112          -13.7    Candido Botelho Bracher  Banks: Commercial and Savings   \n",
       "150          -52.3   Paulo Rogerio Caffarelli  Banks: Commercial and Savings   \n",
       "153           -5.7  Luiz Carlos Trabuco Cappi  Banks: Commercial and Savings   \n",
       "190          -92.3    Wesley Mendonca Batista                Food Production   \n",
       "\n",
       "                        sector  previous_rank country             hq_location  \\\n",
       "74                      Energy             58  Brazil  Rio de Janeiro, Brazil   \n",
       "112                 Financials            159  Brazil       Sao Paulo, Brazil   \n",
       "150                 Financials            115  Brazil        Brasilia, Brazil   \n",
       "153                 Financials            209  Brazil          Osasco, Brazil   \n",
       "190  Food, Beverages & Tobacco            185  Brazil       Sao Paulo, Brazil   \n",
       "\n",
       "                           website  years_on_global_500_list  employees  \\\n",
       "74     http://www.petrobras.com.br                        23      68829   \n",
       "112         http://www.itau.com.br                         4      94779   \n",
       "150           http://www.bb.com.br                        23     100622   \n",
       "153     http://www.bradesco.com.br                        21      94541   \n",
       "190  http://jbss.infoinvest.com.br                         8     237061   \n",
       "\n",
       "     total_stockholder_equity  \n",
       "74                      76779  \n",
       "112                     37680  \n",
       "150                     26551  \n",
       "153                     32369  \n",
       "190                      7307  "
      ]
     },
     "execution_count": 278,
     "metadata": {},
     "output_type": "execute_result"
    }
   ],
   "source": [
    "brazil_venezuela"
   ]
  },
  {
   "cell_type": "code",
   "execution_count": 279,
   "metadata": {},
   "outputs": [],
   "source": [
    "tech_outside_usa = f500[(f500['sector'] =='Technology') &~ (f500['country'] =='USA')].head()"
   ]
  },
  {
   "cell_type": "code",
   "execution_count": 280,
   "metadata": {},
   "outputs": [
    {
     "data": {
      "text/html": [
       "<div>\n",
       "<style scoped>\n",
       "    .dataframe tbody tr th:only-of-type {\n",
       "        vertical-align: middle;\n",
       "    }\n",
       "\n",
       "    .dataframe tbody tr th {\n",
       "        vertical-align: top;\n",
       "    }\n",
       "\n",
       "    .dataframe thead th {\n",
       "        text-align: right;\n",
       "    }\n",
       "</style>\n",
       "<table border=\"1\" class=\"dataframe\">\n",
       "  <thead>\n",
       "    <tr style=\"text-align: right;\">\n",
       "      <th></th>\n",
       "      <th>company</th>\n",
       "      <th>rank</th>\n",
       "      <th>revenues</th>\n",
       "      <th>revenue_change</th>\n",
       "      <th>profits</th>\n",
       "      <th>assets</th>\n",
       "      <th>profit_change</th>\n",
       "      <th>ceo</th>\n",
       "      <th>industry</th>\n",
       "      <th>sector</th>\n",
       "      <th>previous_rank</th>\n",
       "      <th>country</th>\n",
       "      <th>hq_location</th>\n",
       "      <th>website</th>\n",
       "      <th>years_on_global_500_list</th>\n",
       "      <th>employees</th>\n",
       "      <th>total_stockholder_equity</th>\n",
       "    </tr>\n",
       "  </thead>\n",
       "  <tbody>\n",
       "    <tr>\n",
       "      <th>14</th>\n",
       "      <td>Samsung Electronics</td>\n",
       "      <td>15</td>\n",
       "      <td>173957</td>\n",
       "      <td>-2.0</td>\n",
       "      <td>19316.5</td>\n",
       "      <td>217104</td>\n",
       "      <td>16.8</td>\n",
       "      <td>Oh-Hyun Kwon</td>\n",
       "      <td>Electronics, Electrical Equip.</td>\n",
       "      <td>Technology</td>\n",
       "      <td>13</td>\n",
       "      <td>South Korea</td>\n",
       "      <td>Suwon, South Korea</td>\n",
       "      <td>http://www.samsung.com</td>\n",
       "      <td>23</td>\n",
       "      <td>325000</td>\n",
       "      <td>154376</td>\n",
       "    </tr>\n",
       "    <tr>\n",
       "      <th>26</th>\n",
       "      <td>Hon Hai Precision Industry</td>\n",
       "      <td>27</td>\n",
       "      <td>135129</td>\n",
       "      <td>-4.3</td>\n",
       "      <td>4608.8</td>\n",
       "      <td>80436</td>\n",
       "      <td>-0.4</td>\n",
       "      <td>Terry Gou</td>\n",
       "      <td>Electronics, Electrical Equip.</td>\n",
       "      <td>Technology</td>\n",
       "      <td>25</td>\n",
       "      <td>Taiwan</td>\n",
       "      <td>New Taipei City, Taiwan</td>\n",
       "      <td>http://www.foxconn.com</td>\n",
       "      <td>13</td>\n",
       "      <td>726772</td>\n",
       "      <td>33476</td>\n",
       "    </tr>\n",
       "    <tr>\n",
       "      <th>70</th>\n",
       "      <td>Hitachi</td>\n",
       "      <td>71</td>\n",
       "      <td>84558</td>\n",
       "      <td>1.2</td>\n",
       "      <td>2134.3</td>\n",
       "      <td>86742</td>\n",
       "      <td>48.8</td>\n",
       "      <td>Toshiaki Higashihara</td>\n",
       "      <td>Electronics, Electrical Equip.</td>\n",
       "      <td>Technology</td>\n",
       "      <td>79</td>\n",
       "      <td>Japan</td>\n",
       "      <td>Tokyo, Japan</td>\n",
       "      <td>http://www.hitachi.com</td>\n",
       "      <td>23</td>\n",
       "      <td>303887</td>\n",
       "      <td>26632</td>\n",
       "    </tr>\n",
       "    <tr>\n",
       "      <th>82</th>\n",
       "      <td>Huawei Investment &amp; Holding</td>\n",
       "      <td>83</td>\n",
       "      <td>78511</td>\n",
       "      <td>24.9</td>\n",
       "      <td>5579.4</td>\n",
       "      <td>63837</td>\n",
       "      <td>-5.0</td>\n",
       "      <td>Ren Zhengfei</td>\n",
       "      <td>Network and Other Communications Equipment</td>\n",
       "      <td>Technology</td>\n",
       "      <td>129</td>\n",
       "      <td>China</td>\n",
       "      <td>Shenzhen, China</td>\n",
       "      <td>http://www.huawei.com</td>\n",
       "      <td>8</td>\n",
       "      <td>180000</td>\n",
       "      <td>20159</td>\n",
       "    </tr>\n",
       "    <tr>\n",
       "      <th>104</th>\n",
       "      <td>Sony</td>\n",
       "      <td>105</td>\n",
       "      <td>70170</td>\n",
       "      <td>3.9</td>\n",
       "      <td>676.4</td>\n",
       "      <td>158519</td>\n",
       "      <td>-45.1</td>\n",
       "      <td>Kazuo Hirai</td>\n",
       "      <td>Electronics, Electrical Equip.</td>\n",
       "      <td>Technology</td>\n",
       "      <td>113</td>\n",
       "      <td>Japan</td>\n",
       "      <td>Tokyo, Japan</td>\n",
       "      <td>http://www.sony.net</td>\n",
       "      <td>23</td>\n",
       "      <td>128400</td>\n",
       "      <td>22415</td>\n",
       "    </tr>\n",
       "  </tbody>\n",
       "</table>\n",
       "</div>"
      ],
      "text/plain": [
       "                         company  rank  revenues  revenue_change  profits  \\\n",
       "14           Samsung Electronics    15    173957            -2.0  19316.5   \n",
       "26    Hon Hai Precision Industry    27    135129            -4.3   4608.8   \n",
       "70                       Hitachi    71     84558             1.2   2134.3   \n",
       "82   Huawei Investment & Holding    83     78511            24.9   5579.4   \n",
       "104                         Sony   105     70170             3.9    676.4   \n",
       "\n",
       "     assets  profit_change                   ceo  \\\n",
       "14   217104           16.8          Oh-Hyun Kwon   \n",
       "26    80436           -0.4             Terry Gou   \n",
       "70    86742           48.8  Toshiaki Higashihara   \n",
       "82    63837           -5.0          Ren Zhengfei   \n",
       "104  158519          -45.1           Kazuo Hirai   \n",
       "\n",
       "                                       industry      sector  previous_rank  \\\n",
       "14               Electronics, Electrical Equip.  Technology             13   \n",
       "26               Electronics, Electrical Equip.  Technology             25   \n",
       "70               Electronics, Electrical Equip.  Technology             79   \n",
       "82   Network and Other Communications Equipment  Technology            129   \n",
       "104              Electronics, Electrical Equip.  Technology            113   \n",
       "\n",
       "         country              hq_location                 website  \\\n",
       "14   South Korea       Suwon, South Korea  http://www.samsung.com   \n",
       "26        Taiwan  New Taipei City, Taiwan  http://www.foxconn.com   \n",
       "70         Japan             Tokyo, Japan  http://www.hitachi.com   \n",
       "82         China          Shenzhen, China   http://www.huawei.com   \n",
       "104        Japan             Tokyo, Japan     http://www.sony.net   \n",
       "\n",
       "     years_on_global_500_list  employees  total_stockholder_equity  \n",
       "14                         23     325000                    154376  \n",
       "26                         13     726772                     33476  \n",
       "70                         23     303887                     26632  \n",
       "82                          8     180000                     20159  \n",
       "104                        23     128400                     22415  "
      ]
     },
     "execution_count": 280,
     "metadata": {},
     "output_type": "execute_result"
    }
   ],
   "source": [
    "tech_outside_usa"
   ]
  },
  {
   "cell_type": "markdown",
   "metadata": {},
   "source": [
    "### Sorting Values"
   ]
  },
  {
   "cell_type": "code",
   "execution_count": 283,
   "metadata": {},
   "outputs": [],
   "source": [
    "selected_rows = f500[f500['country']=='China']"
   ]
  },
  {
   "cell_type": "code",
   "execution_count": 284,
   "metadata": {},
   "outputs": [
    {
     "data": {
      "text/html": [
       "<div>\n",
       "<style scoped>\n",
       "    .dataframe tbody tr th:only-of-type {\n",
       "        vertical-align: middle;\n",
       "    }\n",
       "\n",
       "    .dataframe tbody tr th {\n",
       "        vertical-align: top;\n",
       "    }\n",
       "\n",
       "    .dataframe thead th {\n",
       "        text-align: right;\n",
       "    }\n",
       "</style>\n",
       "<table border=\"1\" class=\"dataframe\">\n",
       "  <thead>\n",
       "    <tr style=\"text-align: right;\">\n",
       "      <th></th>\n",
       "      <th>company</th>\n",
       "      <th>rank</th>\n",
       "      <th>revenues</th>\n",
       "      <th>revenue_change</th>\n",
       "      <th>profits</th>\n",
       "      <th>assets</th>\n",
       "      <th>profit_change</th>\n",
       "      <th>ceo</th>\n",
       "      <th>industry</th>\n",
       "      <th>sector</th>\n",
       "      <th>previous_rank</th>\n",
       "      <th>country</th>\n",
       "      <th>hq_location</th>\n",
       "      <th>website</th>\n",
       "      <th>years_on_global_500_list</th>\n",
       "      <th>employees</th>\n",
       "      <th>total_stockholder_equity</th>\n",
       "    </tr>\n",
       "  </thead>\n",
       "  <tbody>\n",
       "    <tr>\n",
       "      <th>1</th>\n",
       "      <td>State Grid</td>\n",
       "      <td>2</td>\n",
       "      <td>315199</td>\n",
       "      <td>-4.4</td>\n",
       "      <td>9571.3</td>\n",
       "      <td>489838</td>\n",
       "      <td>-6.2</td>\n",
       "      <td>Kou Wei</td>\n",
       "      <td>Utilities</td>\n",
       "      <td>Energy</td>\n",
       "      <td>2</td>\n",
       "      <td>China</td>\n",
       "      <td>Beijing, China</td>\n",
       "      <td>http://www.sgcc.com.cn</td>\n",
       "      <td>17</td>\n",
       "      <td>926067</td>\n",
       "      <td>209456</td>\n",
       "    </tr>\n",
       "    <tr>\n",
       "      <th>2</th>\n",
       "      <td>Sinopec Group</td>\n",
       "      <td>3</td>\n",
       "      <td>267518</td>\n",
       "      <td>-9.1</td>\n",
       "      <td>1257.9</td>\n",
       "      <td>310726</td>\n",
       "      <td>-65.0</td>\n",
       "      <td>Wang Yupu</td>\n",
       "      <td>Petroleum Refining</td>\n",
       "      <td>Energy</td>\n",
       "      <td>4</td>\n",
       "      <td>China</td>\n",
       "      <td>Beijing, China</td>\n",
       "      <td>http://www.sinopec.com</td>\n",
       "      <td>19</td>\n",
       "      <td>713288</td>\n",
       "      <td>106523</td>\n",
       "    </tr>\n",
       "    <tr>\n",
       "      <th>3</th>\n",
       "      <td>China National Petroleum</td>\n",
       "      <td>4</td>\n",
       "      <td>262573</td>\n",
       "      <td>-12.3</td>\n",
       "      <td>1867.5</td>\n",
       "      <td>585619</td>\n",
       "      <td>-73.7</td>\n",
       "      <td>Zhang Jianhua</td>\n",
       "      <td>Petroleum Refining</td>\n",
       "      <td>Energy</td>\n",
       "      <td>3</td>\n",
       "      <td>China</td>\n",
       "      <td>Beijing, China</td>\n",
       "      <td>http://www.cnpc.com.cn</td>\n",
       "      <td>17</td>\n",
       "      <td>1512048</td>\n",
       "      <td>301893</td>\n",
       "    </tr>\n",
       "    <tr>\n",
       "      <th>21</th>\n",
       "      <td>Industrial &amp; Commercial Bank of China</td>\n",
       "      <td>22</td>\n",
       "      <td>147675</td>\n",
       "      <td>-11.7</td>\n",
       "      <td>41883.9</td>\n",
       "      <td>3473238</td>\n",
       "      <td>-5.0</td>\n",
       "      <td>Gu Shu</td>\n",
       "      <td>Banks: Commercial and Savings</td>\n",
       "      <td>Financials</td>\n",
       "      <td>15</td>\n",
       "      <td>China</td>\n",
       "      <td>Beijing, China</td>\n",
       "      <td>http://www.icbc-ltd.com</td>\n",
       "      <td>19</td>\n",
       "      <td>461749</td>\n",
       "      <td>283438</td>\n",
       "    </tr>\n",
       "    <tr>\n",
       "      <th>23</th>\n",
       "      <td>China State Construction Engineering</td>\n",
       "      <td>24</td>\n",
       "      <td>144505</td>\n",
       "      <td>3.1</td>\n",
       "      <td>2492.9</td>\n",
       "      <td>201269</td>\n",
       "      <td>10.7</td>\n",
       "      <td>Guan Qing</td>\n",
       "      <td>Engineering, Construction</td>\n",
       "      <td>Engineering &amp; Construction</td>\n",
       "      <td>27</td>\n",
       "      <td>China</td>\n",
       "      <td>Beijing, China</td>\n",
       "      <td>http://www.cscec.com</td>\n",
       "      <td>6</td>\n",
       "      <td>263915</td>\n",
       "      <td>15344</td>\n",
       "    </tr>\n",
       "  </tbody>\n",
       "</table>\n",
       "</div>"
      ],
      "text/plain": [
       "                                  company  rank  revenues  revenue_change  \\\n",
       "1                              State Grid     2    315199            -4.4   \n",
       "2                           Sinopec Group     3    267518            -9.1   \n",
       "3                China National Petroleum     4    262573           -12.3   \n",
       "21  Industrial & Commercial Bank of China    22    147675           -11.7   \n",
       "23   China State Construction Engineering    24    144505             3.1   \n",
       "\n",
       "    profits   assets  profit_change            ceo  \\\n",
       "1    9571.3   489838           -6.2        Kou Wei   \n",
       "2    1257.9   310726          -65.0      Wang Yupu   \n",
       "3    1867.5   585619          -73.7  Zhang Jianhua   \n",
       "21  41883.9  3473238           -5.0         Gu Shu   \n",
       "23   2492.9   201269           10.7      Guan Qing   \n",
       "\n",
       "                         industry                      sector  previous_rank  \\\n",
       "1                       Utilities                      Energy              2   \n",
       "2              Petroleum Refining                      Energy              4   \n",
       "3              Petroleum Refining                      Energy              3   \n",
       "21  Banks: Commercial and Savings                  Financials             15   \n",
       "23      Engineering, Construction  Engineering & Construction             27   \n",
       "\n",
       "   country     hq_location                  website  years_on_global_500_list  \\\n",
       "1    China  Beijing, China   http://www.sgcc.com.cn                        17   \n",
       "2    China  Beijing, China   http://www.sinopec.com                        19   \n",
       "3    China  Beijing, China   http://www.cnpc.com.cn                        17   \n",
       "21   China  Beijing, China  http://www.icbc-ltd.com                        19   \n",
       "23   China  Beijing, China     http://www.cscec.com                         6   \n",
       "\n",
       "    employees  total_stockholder_equity  \n",
       "1      926067                    209456  \n",
       "2      713288                    106523  \n",
       "3     1512048                    301893  \n",
       "21     461749                    283438  \n",
       "23     263915                     15344  "
      ]
     },
     "execution_count": 284,
     "metadata": {},
     "output_type": "execute_result"
    }
   ],
   "source": [
    "selected_rows.head()"
   ]
  },
  {
   "cell_type": "code",
   "execution_count": 286,
   "metadata": {},
   "outputs": [
    {
     "name": "stdout",
     "output_type": "stream",
     "text": [
      "                                company country  employees\n",
      "204                         Noble Group   China       1000\n",
      "458             Yango Financial Holding   China      10234\n",
      "438  China National Aviation Fuel Group   China      11739\n",
      "128                         Tewoo Group   China      17353\n",
      "182            Amer International Group   China      17852\n"
     ]
    }
   ],
   "source": [
    "sorted_rows = selected_rows.sort_values('employees')\n",
    "print(sorted_rows[['company','country','employees']].head())"
   ]
  },
  {
   "cell_type": "code",
   "execution_count": 287,
   "metadata": {},
   "outputs": [
    {
     "name": "stdout",
     "output_type": "stream",
     "text": [
      "                        company country  employees\n",
      "3      China National Petroleum   China    1512048\n",
      "118            China Post Group   China     941211\n",
      "1                    State Grid   China     926067\n",
      "2                 Sinopec Group   China     713288\n",
      "37   Agricultural Bank of China   China     501368\n"
     ]
    }
   ],
   "source": [
    "sorted_rows = selected_rows.sort_values('employees',ascending = False)\n",
    "print(sorted_rows[['company','country','employees']].head())"
   ]
  },
  {
   "cell_type": "code",
   "execution_count": 290,
   "metadata": {},
   "outputs": [],
   "source": [
    "japan = f500[f500['country'] == 'Japan']"
   ]
  },
  {
   "cell_type": "code",
   "execution_count": 291,
   "metadata": {},
   "outputs": [],
   "source": [
    "japan_sort = japan.sort_values('employees', ascending = False)"
   ]
  },
  {
   "cell_type": "code",
   "execution_count": 294,
   "metadata": {},
   "outputs": [],
   "source": [
    "japan_selected = japan_sort.iloc[0]"
   ]
  },
  {
   "cell_type": "code",
   "execution_count": 296,
   "metadata": {},
   "outputs": [],
   "source": [
    "top_japan_employer = japan_selected['company']"
   ]
  },
  {
   "cell_type": "markdown",
   "metadata": {},
   "source": [
    "### Using Loops with pandas"
   ]
  },
  {
   "cell_type": "code",
   "execution_count": 297,
   "metadata": {},
   "outputs": [],
   "source": [
    "avg_rev_by_country = {}\n",
    "countries = f500['country'].unique()\n",
    "for c in countries:\n",
    "    selected_rows = f500[f500['country']==c]\n",
    "    mean = selected_rows['revenues'].mean()\n",
    "    avg_rev_by_country[c] = mean"
   ]
  },
  {
   "cell_type": "code",
   "execution_count": 298,
   "metadata": {},
   "outputs": [
    {
     "data": {
      "text/plain": [
       "{'USA': 64218.371212121216,\n",
       " 'China': 55397.880733944956,\n",
       " 'Japan': 53164.03921568627,\n",
       " 'Germany': 63915.0,\n",
       " 'Netherlands': 61708.92857142857,\n",
       " 'Britain': 51588.708333333336,\n",
       " 'South Korea': 49725.6,\n",
       " 'Switzerland': 51353.57142857143,\n",
       " 'France': 55231.793103448275,\n",
       " 'Taiwan': 46364.666666666664,\n",
       " 'Singapore': 54454.333333333336,\n",
       " 'Italy': 51899.57142857143,\n",
       " 'Russia': 65247.75,\n",
       " 'Spain': 40600.666666666664,\n",
       " 'Brazil': 52024.57142857143,\n",
       " 'Mexico': 54987.5,\n",
       " 'Luxembourg': 56791.0,\n",
       " 'India': 39993.0,\n",
       " 'Malaysia': 49479.0,\n",
       " 'Thailand': 48719.0,\n",
       " 'Australia': 33688.71428571428,\n",
       " 'Belgium': 45905.0,\n",
       " 'Norway': 45873.0,\n",
       " 'Canada': 31848.0,\n",
       " 'Ireland': 32819.5,\n",
       " 'Indonesia': 36487.0,\n",
       " 'Denmark': 35464.0,\n",
       " 'Saudi Arabia': 35421.0,\n",
       " 'Sweden': 27963.666666666668,\n",
       " 'Finland': 26113.0,\n",
       " 'Venezuela': 24403.0,\n",
       " 'Turkey': 23456.0,\n",
       " 'U.A.E': 22799.0,\n",
       " 'Israel': 21903.0}"
      ]
     },
     "execution_count": 298,
     "metadata": {},
     "output_type": "execute_result"
    }
   ],
   "source": [
    "avg_rev_by_country"
   ]
  },
  {
   "cell_type": "code",
   "execution_count": 300,
   "metadata": {},
   "outputs": [],
   "source": [
    "top_employer_by_country = {}\n",
    "countries = f500['country'].unique()\n",
    "for c in countries:\n",
    "    selected_rows = f500[f500['country']== c]\n",
    "    sorted_row = selected_rows.sort_values('employees',ascending = False)\n",
    "    company = sorted_row.iloc[0]['company']\n",
    "    top_employer_by_country[c] = company"
   ]
  },
  {
   "cell_type": "code",
   "execution_count": 301,
   "metadata": {},
   "outputs": [
    {
     "data": {
      "text/plain": [
       "{'USA': 'Walmart',\n",
       " 'China': 'China National Petroleum',\n",
       " 'Japan': 'Toyota Motor',\n",
       " 'Germany': 'Volkswagen',\n",
       " 'Netherlands': 'EXOR Group',\n",
       " 'Britain': 'Compass Group',\n",
       " 'South Korea': 'Samsung Electronics',\n",
       " 'Switzerland': 'Nestle',\n",
       " 'France': 'Sodexo',\n",
       " 'Taiwan': 'Hon Hai Precision Industry',\n",
       " 'Singapore': 'Flex',\n",
       " 'Italy': 'Poste Italiane',\n",
       " 'Russia': 'Gazprom',\n",
       " 'Spain': 'Banco Santander',\n",
       " 'Brazil': 'JBS',\n",
       " 'Mexico': 'America Movil',\n",
       " 'Luxembourg': 'ArcelorMittal',\n",
       " 'India': 'State Bank of India',\n",
       " 'Malaysia': 'Petronas',\n",
       " 'Thailand': 'PTT',\n",
       " 'Australia': 'Wesfarmers',\n",
       " 'Belgium': 'Anheuser-Busch InBev',\n",
       " 'Norway': 'Statoil',\n",
       " 'Canada': 'George Weston',\n",
       " 'Ireland': 'Accenture',\n",
       " 'Indonesia': 'Pertamina',\n",
       " 'Denmark': 'Maersk Group',\n",
       " 'Saudi Arabia': 'SABIC',\n",
       " 'Sweden': 'H & M Hennes & Mauritz',\n",
       " 'Finland': 'Nokia',\n",
       " 'Venezuela': 'Mercantil Servicios Financieros',\n",
       " 'Turkey': 'Koc Holding',\n",
       " 'U.A.E': 'Emirates Group',\n",
       " 'Israel': 'Teva Pharmaceutical Industries'}"
      ]
     },
     "execution_count": 301,
     "metadata": {},
     "output_type": "execute_result"
    }
   ],
   "source": [
    "top_employer_by_country"
   ]
  },
  {
   "cell_type": "code",
   "execution_count": 303,
   "metadata": {},
   "outputs": [],
   "source": [
    "f500['roa'] = f500['profits']/f500['assets']"
   ]
  },
  {
   "cell_type": "code",
   "execution_count": 309,
   "metadata": {},
   "outputs": [],
   "source": [
    "top_roa_sector = {}\n",
    "sectors = f500['sector'].unique()\n",
    "for s in sectors:\n",
    "    selected_rows = f500[f500['sector']==s]\n",
    "    sorted_rows = selected_rows.sort_values('roa',ascending = False)\n",
    "    company = sorted_rows.iloc[0]['company']\n",
    "    top_roa_sector[s] = company\n",
    "    "
   ]
  },
  {
   "cell_type": "code",
   "execution_count": 312,
   "metadata": {},
   "outputs": [
    {
     "data": {
      "text/plain": [
       "{'Retailing': 'H & M Hennes & Mauritz',\n",
       " 'Energy': 'National Grid',\n",
       " 'Motor Vehicles & Parts': 'Subaru',\n",
       " 'Financials': 'Berkshire Hathaway',\n",
       " 'Technology': 'Accenture',\n",
       " 'Wholesalers': 'McKesson',\n",
       " 'Health Care': 'Gilead Sciences',\n",
       " 'Telecommunications': 'KDDI',\n",
       " 'Engineering & Construction': 'Pacific Construction Group',\n",
       " 'Industrials': '3M',\n",
       " 'Food & Drug Stores': 'Publix Super Markets',\n",
       " 'Aerospace & Defense': 'Lockheed Martin',\n",
       " 'Food, Beverages & Tobacco': 'Philip Morris International',\n",
       " 'Household Products': 'Unilever',\n",
       " 'Transportation': 'Delta Air Lines',\n",
       " 'Materials': 'CRH',\n",
       " 'Chemicals': 'LyondellBasell Industries',\n",
       " 'Media': 'Disney',\n",
       " 'Apparel': 'Nike',\n",
       " 'Hotels, Restaurants & Leisure': 'McDonald’s',\n",
       " 'Business Services': 'Adecco Group'}"
      ]
     },
     "execution_count": 312,
     "metadata": {},
     "output_type": "execute_result"
    }
   ],
   "source": [
    "top_roa_sector"
   ]
  },
  {
   "cell_type": "code",
   "execution_count": null,
   "metadata": {},
   "outputs": [],
   "source": []
  }
 ],
 "metadata": {
  "kernelspec": {
   "display_name": "Python 3",
   "language": "python",
   "name": "python3"
  },
  "language_info": {
   "codemirror_mode": {
    "name": "ipython",
    "version": 3
   },
   "file_extension": ".py",
   "mimetype": "text/x-python",
   "name": "python",
   "nbconvert_exporter": "python",
   "pygments_lexer": "ipython3",
   "version": "3.6.5"
  }
 },
 "nbformat": 4,
 "nbformat_minor": 2
}
